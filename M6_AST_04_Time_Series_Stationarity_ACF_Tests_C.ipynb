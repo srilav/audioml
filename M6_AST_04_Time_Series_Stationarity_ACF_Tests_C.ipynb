{
  "nbformat": 4,
  "nbformat_minor": 0,
  "metadata": {
    "colab": {
      "name": "M6_AST_04_Time_Series_Stationarity_ACF_Tests_C.ipynb",
      "provenance": [],
      "collapsed_sections": [],
      "include_colab_link": true
    },
    "kernelspec": {
      "display_name": "Python 3",
      "language": "python",
      "name": "python3"
    },
    "language_info": {
      "codemirror_mode": {
        "name": "ipython",
        "version": 3
      },
      "file_extension": ".py",
      "mimetype": "text/x-python",
      "name": "python",
      "nbconvert_exporter": "python",
      "pygments_lexer": "ipython3",
      "version": "3.8.5"
    }
  },
  "cells": [
    {
      "cell_type": "markdown",
      "metadata": {
        "id": "view-in-github",
        "colab_type": "text"
      },
      "source": [
        "<a href=\"https://colab.research.google.com/github/srilav/audioml/blob/master/M6_AST_04_Time_Series_Stationarity_ACF_Tests_C.ipynb\" target=\"_parent\"><img src=\"https://colab.research.google.com/assets/colab-badge.svg\" alt=\"Open In Colab\"/></a>"
      ]
    },
    {
      "cell_type": "markdown",
      "metadata": {
        "id": "MZQMVE4gmAlY"
      },
      "source": [
        "# Advanced Certification Program in Computational Data Science\n",
        "## A program by IISc and TalentSprint\n",
        "### Assignment 4: Time Series Stationarity/ACF Tests"
      ]
    },
    {
      "cell_type": "markdown",
      "metadata": {
        "id": "UpgCEb9kmJ2Y"
      },
      "source": [
        "## Learning Objectives"
      ]
    },
    {
      "cell_type": "markdown",
      "metadata": {
        "id": "rZkwoKfWmNJj"
      },
      "source": [
        "At the end of the experiment, you will be able to\n",
        "\n",
        "* check time series stationarity using Augmented-Dickey Fuller test\n",
        "* check time series stationarity using Phillips Perron test\n",
        "* use Kwiatkowski-Phillips-Schmidt-Shin test to check time series stationarity\n",
        "* perform Ljung Box test to check autocorrelation"
      ]
    },
    {
      "cell_type": "markdown",
      "metadata": {
        "id": "jtdSVLWombeQ"
      },
      "source": [
        "## Information"
      ]
    },
    {
      "cell_type": "markdown",
      "metadata": {
        "id": "iP9tuHBqK0sP"
      },
      "source": [
        "The regularity that may exist over time in the behavior of a time series, is known as **stationarity**.\n",
        "\n",
        "For a time series to be stationary the following criterion is there:\n",
        "\n",
        "* the mean of the series should not be a function of time, rather should be a constant.\n",
        "\n",
        "* the variance of the series should not be a function of time.\n",
        "\n",
        "* the covariance of the i th term and the (i + m) th term should not be a function of time.\n",
        "\n",
        "There are tests to verify the stationarity of a time series. Some of them are described below:\n",
        "\n",
        "* Augmented Dickey-Fuller test\n",
        "\n",
        "* Phillips Perron test\n",
        "\n",
        "* Kwiatkowski-Phillips-Schmidt-Shin test\n",
        "\n",
        "Let's use these tests to check the stationarity of the seasonal Industrial production data."
      ]
    },
    {
      "cell_type": "markdown",
      "metadata": {
        "id": "BNLA8HiKxQhc"
      },
      "source": [
        "### Setup Steps:"
      ]
    },
    {
      "cell_type": "code",
      "metadata": {
        "id": "2YzfoPvJDiTX"
      },
      "source": [
        "#@title Please enter your registration id to start: { run: \"auto\", display-mode: \"form\" }\n",
        "Id = \"\" #@param {type:\"string\"}"
      ],
      "execution_count": null,
      "outputs": []
    },
    {
      "cell_type": "code",
      "metadata": {
        "id": "AjoZJWGErxGf"
      },
      "source": [
        "#@title Please enter your password (your registered phone number) to continue: { run: \"auto\", display-mode: \"form\" }\n",
        "password = \"\" #@param {type:\"string\"}"
      ],
      "execution_count": null,
      "outputs": []
    },
    {
      "cell_type": "code",
      "metadata": {
        "id": "WBPPuGmBlDIN",
        "cellView": "form"
      },
      "source": [
        "#@title Run this cell to complete the setup for this Notebook\n",
        "from IPython import get_ipython\n",
        "\n",
        "ipython = get_ipython()\n",
        "  \n",
        "notebook= \"M6_AST_04_Time_Series_Stationarity_ACF_Tests_C\" #name of the notebook\n",
        "\n",
        "def setup():\n",
        "#  ipython.magic(\"sx pip3 install torch\")  \n",
        "    ipython.magic(\"sx pip -q install arch\")\n",
        "    ipython.magic(\"sx wget https://cdn.iisc.talentsprint.com/CDS/Datasets/electric_production.csv\")\n",
        "    from IPython.display import HTML, display\n",
        "    display(HTML('<script src=\"https://dashboard.talentsprint.com/aiml/record_ip.html?traineeId={0}&recordId={1}\"></script>'.format(getId(),submission_id)))\n",
        "    print(\"Setup completed successfully\")\n",
        "    return\n",
        "\n",
        "def submit_notebook():\n",
        "    ipython.magic(\"notebook -e \"+ notebook + \".ipynb\")\n",
        "    \n",
        "    import requests, json, base64, datetime\n",
        "\n",
        "    url = \"https://dashboard.talentsprint.com/xp/app/save_notebook_attempts\"\n",
        "    if not submission_id:\n",
        "      data = {\"id\" : getId(), \"notebook\" : notebook, \"mobile\" : getPassword()}\n",
        "      r = requests.post(url, data = data)\n",
        "      r = json.loads(r.text)\n",
        "\n",
        "      if r[\"status\"] == \"Success\":\n",
        "          return r[\"record_id\"]\n",
        "      elif \"err\" in r:        \n",
        "        print(r[\"err\"])\n",
        "        return None        \n",
        "      else:\n",
        "        print (\"Something is wrong, the notebook will not be submitted for grading\")\n",
        "        return None\n",
        "    \n",
        "    elif getAnswer() and getComplexity() and getAdditional() and getConcepts() and getComments() and getMentorSupport():\n",
        "      f = open(notebook + \".ipynb\", \"rb\")\n",
        "      file_hash = base64.b64encode(f.read())\n",
        "\n",
        "      data = {\"complexity\" : Complexity, \"additional\" :Additional, \n",
        "              \"concepts\" : Concepts, \"record_id\" : submission_id, \n",
        "              \"answer\" : Answer, \"id\" : Id, \"file_hash\" : file_hash,\n",
        "              \"notebook\" : notebook,\n",
        "              \"feedback_experiments_input\" : Comments,\n",
        "              \"feedback_mentor_support\": Mentor_support}\n",
        "      r = requests.post(url, data = data)\n",
        "      r = json.loads(r.text)\n",
        "      if \"err\" in r:        \n",
        "        print(r[\"err\"])\n",
        "        return None   \n",
        "      else:\n",
        "        print(\"Your submission is successful.\")\n",
        "        print(\"Ref Id:\", submission_id)\n",
        "        print(\"Date of submission: \", r[\"date\"])\n",
        "        print(\"Time of submission: \", r[\"time\"])\n",
        "        print(\"View your submissions: https://cds.iisc.talentsprint.com/notebook_submissions\")\n",
        "        #print(\"For any queries/discrepancies, please connect with mentors through the chat icon in LMS dashboard.\")\n",
        "        return submission_id\n",
        "    else: submission_id\n",
        "    \n",
        "\n",
        "def getAdditional():\n",
        "  try:\n",
        "    if not Additional: \n",
        "      raise NameError\n",
        "    else:\n",
        "      return Additional  \n",
        "  except NameError:\n",
        "    print (\"Please answer Additional Question\")\n",
        "    return None\n",
        "\n",
        "def getComplexity():\n",
        "  try:\n",
        "    if not Complexity:\n",
        "      raise NameError\n",
        "    else:\n",
        "      return Complexity\n",
        "  except NameError:\n",
        "    print (\"Please answer Complexity Question\")\n",
        "    return None\n",
        "  \n",
        "def getConcepts():\n",
        "  try:\n",
        "    if not Concepts:\n",
        "      raise NameError\n",
        "    else:\n",
        "      return Concepts\n",
        "  except NameError:\n",
        "    print (\"Please answer Concepts Question\")\n",
        "    return None\n",
        "  \n",
        "  \n",
        "# def getWalkthrough():\n",
        "#   try:\n",
        "#     if not Walkthrough:\n",
        "#       raise NameError\n",
        "#     else:\n",
        "#       return Walkthrough\n",
        "#   except NameError:\n",
        "#     print (\"Please answer Walkthrough Question\")\n",
        "#     return None\n",
        "  \n",
        "def getComments():\n",
        "  try:\n",
        "    if not Comments:\n",
        "      raise NameError\n",
        "    else:\n",
        "      return Comments\n",
        "  except NameError:\n",
        "    print (\"Please answer Comments Question\")\n",
        "    return None\n",
        "  \n",
        "\n",
        "def getMentorSupport():\n",
        "  try:\n",
        "    if not Mentor_support:\n",
        "      raise NameError\n",
        "    else:\n",
        "      return Mentor_support\n",
        "  except NameError:\n",
        "    print (\"Please answer Mentor support Question\")\n",
        "    return None\n",
        "\n",
        "def getAnswer():\n",
        "  try:\n",
        "    if not Answer:\n",
        "      raise NameError \n",
        "    else: \n",
        "      return Answer\n",
        "  except NameError:\n",
        "    print (\"Please answer Question\")\n",
        "    return None\n",
        "  \n",
        "\n",
        "def getId():\n",
        "  try: \n",
        "    return Id if Id else None\n",
        "  except NameError:\n",
        "    return None\n",
        "\n",
        "def getPassword():\n",
        "  try:\n",
        "    return password if password else None\n",
        "  except NameError:\n",
        "    return None\n",
        "\n",
        "submission_id = None\n",
        "### Setup \n",
        "if getPassword() and getId():\n",
        "  submission_id = submit_notebook()\n",
        "  if submission_id:\n",
        "    setup() \n",
        "else:\n",
        "  print (\"Please complete Id and Password cells before running setup\")\n",
        "\n"
      ],
      "execution_count": null,
      "outputs": []
    },
    {
      "cell_type": "markdown",
      "metadata": {
        "id": "TMakWfSUkPeZ"
      },
      "source": [
        "### Import required packages"
      ]
    },
    {
      "cell_type": "markdown",
      "metadata": {
        "id": "sO830CbZ8eg8"
      },
      "source": [
        "`statsmodels` is a Python module that provides classes and functions for the estimation of many different statistical models, as well as for conducting statistical tests and statistical data exploration. \n",
        "\n",
        "[statsmodels.tsa](https://www.statsmodels.org/stable/tsa.html) contains model classes and functions that are useful for time series analysis."
      ]
    },
    {
      "cell_type": "code",
      "metadata": {
        "id": "NxrHlJ6OkXK3"
      },
      "source": [
        "import numpy as np\n",
        "import pandas as pd\n",
        "import matplotlib.pyplot as plt\n",
        "import warnings\n",
        "warnings.filterwarnings(\"ignore\")\n",
        "import statsmodels.api as sm\n",
        "from statsmodels.tsa.seasonal import seasonal_decompose\n",
        "from statsmodels.tsa.stattools import adfuller, kpss\n",
        "from arch.unitroot import PhillipsPerron"
      ],
      "execution_count": null,
      "outputs": []
    },
    {
      "cell_type": "markdown",
      "metadata": {
        "id": "vdQ1_B3o8ehA"
      },
      "source": [
        "**Dataset Description**\n",
        "\n",
        "The dataset is the Industrial production of electric and gas utilities in the United States, from the years 1985–2018. It contains monthly data starting from 1/1/1985 to 1/1/2018 having 12 entries per year.\n",
        "\n",
        "This data measures the real output of all relevant establishments located in the United States, regardless of their ownership, but not those located in U.S. territories."
      ]
    },
    {
      "cell_type": "code",
      "metadata": {
        "id": "WdjHpOQ09Tub"
      },
      "source": [
        "# Read dataset\n",
        "df = pd.read_csv('electric_production.csv')\n",
        "df.columns = ['Date','Production']\n",
        "df.head()"
      ],
      "execution_count": null,
      "outputs": []
    },
    {
      "cell_type": "markdown",
      "metadata": {
        "id": "IlYOiD_o9Tue"
      },
      "source": [
        "Now to work with time series data, the 'date' column is converted into a datetime index."
      ]
    },
    {
      "cell_type": "code",
      "metadata": {
        "id": "xY__8Tec9Tue"
      },
      "source": [
        "# Convert Data column to datetime index\n",
        "df['Date'] = pd.to_datetime(df['Date'])\n",
        "df1 = df.set_index('Date')\n",
        "df1.head()"
      ],
      "execution_count": null,
      "outputs": []
    },
    {
      "cell_type": "code",
      "metadata": {
        "id": "nuA1DZgt9Tug"
      },
      "source": [
        "# Visualize data\n",
        "df1.plot()\n",
        "plt.ylabel(\"Electric and Gas Utilities\")\n",
        "plt.show()"
      ],
      "execution_count": null,
      "outputs": []
    },
    {
      "cell_type": "markdown",
      "metadata": {
        "id": "DhB9X8qP9Tug"
      },
      "source": [
        "As seen from the plot, this is seasonal data as there is some seasonality to it and an upward trend too. "
      ]
    },
    {
      "cell_type": "markdown",
      "metadata": {
        "id": "1WMqwJ5B9Tuh"
      },
      "source": [
        "Now comparing the 12 month simple moving average along with the series to ascertain the trend. The standard deviation is also plotted to see if there is any variance or not."
      ]
    },
    {
      "cell_type": "code",
      "metadata": {
        "id": "95OhTXwh9Tuh"
      },
      "source": [
        "# 12 month simple moving average and standard deviation\n",
        "df1['Production'].rolling(12).mean().plot(label='12 SMA',figsize=(16,8))\n",
        "df1['Production'].rolling(12).std().plot(label='12 STD')\n",
        "df1['Production'].plot()\n",
        "plt.legend()"
      ],
      "execution_count": null,
      "outputs": []
    },
    {
      "cell_type": "markdown",
      "metadata": {
        "id": "wTD5yg_99Tui"
      },
      "source": [
        "As seen from the above plot, the standard deviation is not varying much so there is not much variance."
      ]
    },
    {
      "cell_type": "markdown",
      "metadata": {
        "id": "QV6Rbcpy9Tuj"
      },
      "source": [
        "**Decomposition of the time series data to its trend, seasonality and residual components.**"
      ]
    },
    {
      "cell_type": "code",
      "metadata": {
        "id": "xmzDkZkV9Tuk"
      },
      "source": [
        "# Decompose time series\n",
        "decomp = seasonal_decompose(df1['Production'])\n",
        "fig = decomp.plot()\n",
        "fig.set_size_inches(14,7)"
      ],
      "execution_count": null,
      "outputs": []
    },
    {
      "cell_type": "markdown",
      "metadata": {
        "id": "2ffOIUA29Tuk"
      },
      "source": [
        "The trend, seasonal and residual errors can be seen individually here."
      ]
    },
    {
      "cell_type": "markdown",
      "metadata": {
        "id": "bhyWdB2U9Tul"
      },
      "source": [
        "### Check the data stationarity using Augmented Dickey-Fuller test"
      ]
    },
    {
      "cell_type": "markdown",
      "metadata": {
        "id": "CXHoXVRRixUC"
      },
      "source": [
        "The **Augmented Dickey-Fuller test** is a type of statistical test called a unit root test. The intuition behind a unit root test is that it determines how strongly a time series is defined by a trend.\n",
        "\n",
        "There are a number of unit root tests and the Augmented Dickey-Fuller is one of the more widely used. It uses an autoregressive model and optimizes an information criterion across multiple different lag values.\n",
        "\n",
        "The null hypothesis of the test is that the time series can be represented by a unit root, that it is not stationary (has some time-dependent structure). The alternate hypothesis (rejecting the null hypothesis) is that the time series is stationary.\n",
        "\n",
        "* Null Hypothesis (H0): If failed to be rejected, it suggests the time series has a unit root, meaning it is non-stationary. It has some time dependent structure.\n",
        "\n",
        "* Alternate Hypothesis (H1): The null hypothesis is rejected; it suggests the time series does not have a unit root, meaning it is stationary. It does not have time-dependent structure.\n",
        "\n",
        "We interpret this result using the p-value from the test. A p-value below a threshold (such as 5% or 1%) suggests we reject the null hypothesis (stationary), otherwise, a p-value above the threshold suggests we fail to reject the null hypothesis (non-stationary).\n",
        "\n",
        "* p-value > 0.05: Fail to reject the null hypothesis (H0), the data has a unit root and is non-stationary.\n",
        "\n",
        "* p-value <= 0.05: Reject the null hypothesis (H0), the data does not have a unit root and is stationary.\n",
        "\n",
        "Let's use the Augmented Dickey-Fuller test to check the stationarity of the seasonal Industrial production data."
      ]
    },
    {
      "cell_type": "markdown",
      "metadata": {
        "id": "Dkj49J7h-kN0"
      },
      "source": [
        "From the statsmodels package, the Augmented Dickey-Fuller test function is used. It returns a tuple which consists of the values: adf, pvalue, usedlag, nobs, critical values, icbest and resstore."
      ]
    },
    {
      "cell_type": "code",
      "metadata": {
        "id": "5pZPG32-9Tun"
      },
      "source": [
        "# Applying ADF test\n",
        "fuller_test = adfuller(df1['Production'])\n",
        "fuller_test   "
      ],
      "execution_count": null,
      "outputs": []
    },
    {
      "cell_type": "markdown",
      "metadata": {
        "id": "12GkyzTf9Tuo"
      },
      "source": [
        "Now the p-value is printed and using the p-value, it is ascertained if data is stationary or not."
      ]
    },
    {
      "cell_type": "code",
      "metadata": {
        "id": "mJUht4FU9Tup"
      },
      "source": [
        "def test_p_value(data):\n",
        "    \"\"\" Return Data is stationary if p-value <= 0.05 \"\"\"\n",
        "\n",
        "    fuller_test = adfuller(data)\n",
        "    print('P-value: ',fuller_test[1])\n",
        "    if fuller_test[1] <= 0.05:\n",
        "        print('Reject null hypothesis, data is stationary')\n",
        "    else:\n",
        "        print('Do not reject null hypothesis, data is not stationary')\n",
        "\n",
        "# ADF test for Production series\n",
        "test_p_value(df1['Production'])"
      ],
      "execution_count": null,
      "outputs": []
    },
    {
      "cell_type": "markdown",
      "metadata": {
        "id": "lo6Uwhi99Tuq"
      },
      "source": [
        "Since the data is not stationary, differencing is carried out. The difference is the change of the time series from one period to next. The first difference, second difference and seasonal difference are calculated and for each, the p-value is checked."
      ]
    },
    {
      "cell_type": "code",
      "metadata": {
        "id": "yX3fr5R99Tur"
      },
      "source": [
        "# Perform First order differencing\n",
        "df1['First_diff'] = df1['Production'] - df1['Production'].shift(1)\n",
        "df1['First_diff'].plot()"
      ],
      "execution_count": null,
      "outputs": []
    },
    {
      "cell_type": "code",
      "metadata": {
        "id": "ijp2_QbA9Tur"
      },
      "source": [
        "# ADF test for First order difference\n",
        "test_p_value(df1['First_diff'].dropna())"
      ],
      "execution_count": null,
      "outputs": []
    },
    {
      "cell_type": "markdown",
      "metadata": {
        "id": "jvefb6NU9Tus"
      },
      "source": [
        "In the first difference, we got the data in stationary form. In case, a second difference was needed we apply differencing one more time."
      ]
    },
    {
      "cell_type": "code",
      "metadata": {
        "id": "oPMCCHNG9Tus"
      },
      "source": [
        "# Perform Second order differencing\n",
        "df1['Second_diff'] = df1['First_diff'] - df1['First_diff'].shift(1)\n",
        "df1['Second_diff'].plot()"
      ],
      "execution_count": null,
      "outputs": []
    },
    {
      "cell_type": "code",
      "metadata": {
        "id": "SG2ImTNn9Tut"
      },
      "source": [
        "# ADF test for Second order difference\n",
        "test_p_value(df1['Second_diff'].dropna())"
      ],
      "execution_count": null,
      "outputs": []
    },
    {
      "cell_type": "markdown",
      "metadata": {
        "id": "2YC_xLYd9Tut"
      },
      "source": [
        "A seasonal difference can also be taken as follows. The shifting will happen by an entire season that is '12'."
      ]
    },
    {
      "cell_type": "code",
      "metadata": {
        "id": "QP6AgFJ19Tuu"
      },
      "source": [
        "# Perform Seasonal differencing\n",
        "df1['Seasonal_diff'] = df1['Production'] - df1['Production'].shift(12)\n",
        "df1['Seasonal_diff'].plot()"
      ],
      "execution_count": null,
      "outputs": []
    },
    {
      "cell_type": "code",
      "metadata": {
        "id": "x6QJ4XmP9Tuu"
      },
      "source": [
        "# ADF test for Seasonal difference\n",
        "test_p_value(df1['Seasonal_diff'].dropna())"
      ],
      "execution_count": null,
      "outputs": []
    },
    {
      "cell_type": "markdown",
      "metadata": {
        "id": "WKkRYF7ooZkf"
      },
      "source": [
        "### Check the data stationarity using Phillips Perron test"
      ]
    },
    {
      "cell_type": "markdown",
      "metadata": {
        "id": "ffEo6pVkHOJl"
      },
      "source": [
        "The Phillips-Perron test is similar to the ADF except that the regression run does not include lagged values of the first differences. Instead, the PP test fixes the t-statistic using a long run variance estimation, implemented using a Newey-West covariance estimator.\n",
        "\n",
        "The null hypothesis of the Phillips-Perron (PP) test is that there is a unit root (series is not stationary), with the alternative that there is no unit root (series is stationary). If the p-value is above a critical size, then the null cannot be rejected and the series appears to be non-stationary."
      ]
    },
    {
      "cell_type": "code",
      "metadata": {
        "id": "C6woirnz8ehK"
      },
      "source": [
        "# Applying PP test for Production series\n",
        "pp = PhillipsPerron(df1['Production'])\n",
        "print(pp.summary().as_text())"
      ],
      "execution_count": null,
      "outputs": []
    },
    {
      "cell_type": "markdown",
      "metadata": {
        "id": "yDaSJpWsHUlm"
      },
      "source": [
        "From the above results, we can see that p-value is smaller than 0.05. So we reject the null hypothesis and the series is weakly stationary.\n",
        "\n",
        "Now applying PP test to first order differencing series."
      ]
    },
    {
      "cell_type": "code",
      "metadata": {
        "id": "2pG2q24PoZk_"
      },
      "source": [
        "# Applying PP test for First_difference series\n",
        "pp = PhillipsPerron(df1['First_diff'].dropna())\n",
        "print(pp.summary().as_text())"
      ],
      "execution_count": null,
      "outputs": []
    },
    {
      "cell_type": "markdown",
      "metadata": {
        "id": "a1s6Y64tIEd6"
      },
      "source": [
        "From the above results, we can see that p-value is smaller than 0.05. So we reject the null hypothesis and the series is weakly stationary.\n",
        "\n",
        "Now applying PP test to second order differencing series."
      ]
    },
    {
      "cell_type": "code",
      "metadata": {
        "id": "9kl-SGRi4GOZ"
      },
      "source": [
        "# Applying PP test for Second_difference series\n",
        "pp = PhillipsPerron(df1['Second_diff'].dropna())\n",
        "print(pp.summary().as_text())"
      ],
      "execution_count": null,
      "outputs": []
    },
    {
      "cell_type": "markdown",
      "metadata": {
        "id": "BjlKp8AcIJKL"
      },
      "source": [
        "From the above results, we can see that p-value is smaller than 0.05. So we reject the null hypothesis and the series is weakly stationary.\n",
        "\n",
        "Now applying PP test to seasonal differencing series."
      ]
    },
    {
      "cell_type": "code",
      "metadata": {
        "id": "x7E2qxg06Y9b"
      },
      "source": [
        "# Applying PP test for Seasonal difference series\n",
        "pp = PhillipsPerron(df1['Seasonal_diff'].dropna())\n",
        "print(pp.summary().as_text())"
      ],
      "execution_count": null,
      "outputs": []
    },
    {
      "cell_type": "markdown",
      "metadata": {
        "id": "LFrWdJt_IQFm"
      },
      "source": [
        "From the above results, we can see that p-value is smaller than 0.05. So we reject the null hypothesis and the series is weakly stationary."
      ]
    },
    {
      "cell_type": "markdown",
      "metadata": {
        "id": "ziqK3ziW8ehM"
      },
      "source": [
        "### Check the data stationarity using Kwiatkowski-Phillips-Schmidt-Shin test"
      ]
    },
    {
      "cell_type": "markdown",
      "metadata": {
        "id": "Y1tXmqRb8ehM"
      },
      "source": [
        "The KPSS test is another quite commonly used test for stationarity. A very important point to note here is that the interpretation of KPSS is entirely opposite of the ADF test, and hence these tests cannot be used interchangeably. One needs to be very careful while interpreting these tests. \n",
        "\n",
        "KPSS test tests the below hypothesis:\n",
        "\n",
        "* Null Hypothesis, H0: The time series is stationary.\n",
        "\n",
        "* Alternative Hypothesis, H1: The time series is not stationary.\n",
        "\n",
        "We can use the `kpss` method from the `statsmodels` library to perform this test and compare the value of the test statistics or the p-value. Since the hypothesis is the opposite of the ADF test, the interpretation of the p-value is also opposite.\n",
        "\n",
        "* If the p-value is less than or equal to 0.05 or the absolute value of the test statistics is greater than the critical value, we reject H0 and conclude that the time series is not stationary.\n",
        "\n",
        "* If the p-value is greater than 0.05 or the absolute value of the test statistics is less than the critical value, we fail to reject H0 and conclude that the time series is stationary."
      ]
    },
    {
      "cell_type": "code",
      "metadata": {
        "id": "yDp9ccZQ8ehM"
      },
      "source": [
        "# Applying KPSS test for Production series\n",
        "result = kpss(df1['Production'])\n",
        "print(result)\n",
        "print('KPSS Test Statistic: %.2f' % result[0])\n",
        "print('5%% Critical Value: %.2f' % result[3]['5%'])\n",
        "print('p-value: %.2f' % result[1])"
      ],
      "execution_count": null,
      "outputs": []
    },
    {
      "cell_type": "markdown",
      "metadata": {
        "id": "V6fSOPcX8ehM"
      },
      "source": [
        "As we can see, the p-value is less than 0.05. We reject the null hypothesis and conclude that the time series is not stationary. This is consistent with the result obtained with the ADF test.\n",
        "\n",
        "Now applying KPSS test to first order differencing series."
      ]
    },
    {
      "cell_type": "code",
      "metadata": {
        "id": "vzyyqAFd8ehM"
      },
      "source": [
        "# Applying KPSS test for First_difference series\n",
        "result = kpss(df1['First_diff'].dropna())\n",
        "print(result)\n",
        "print('KPSS Test Statistic: %.2f' % result[0])\n",
        "print('5%% Critical Value: %.2f' % result[3]['5%'])\n",
        "print('p-value: %.2f' % result[1])"
      ],
      "execution_count": null,
      "outputs": []
    },
    {
      "cell_type": "markdown",
      "metadata": {
        "id": "rfdDQx5H8ehN"
      },
      "source": [
        "As we can see, the p-value is greater than 0.05. We fail to reject the null hypothesis and conclude that the time series is stationary. This is also consistent with the result obtained with the ADF test.\n",
        "\n",
        "Now applying KPSS test to second order differencing series."
      ]
    },
    {
      "cell_type": "code",
      "metadata": {
        "id": "S4O2uID48ehN"
      },
      "source": [
        "# Applying KPSS test for Second_difference series\n",
        "result = kpss(df1['Second_diff'].dropna())\n",
        "print(result)\n",
        "print('KPSS Test Statistic: %.2f' % result[0])\n",
        "print('5%% Critical Value: %.2f' % result[3]['5%'])\n",
        "print('p-value: %.2f' % result[1])"
      ],
      "execution_count": null,
      "outputs": []
    },
    {
      "cell_type": "markdown",
      "metadata": {
        "id": "eyP68HFx8ehN"
      },
      "source": [
        "As we can see, the p-value is greater than 0.05. We fail to reject the null hypothesis and conclude that the time series is stationary.\n",
        "\n",
        "Now applying KPSS test to seasonal order differencing series."
      ]
    },
    {
      "cell_type": "code",
      "metadata": {
        "id": "sqshuuhx8ehN"
      },
      "source": [
        "# Applying KPSS test for Seasonal_difference series\n",
        "result = kpss(df1['Seasonal_diff'].dropna())\n",
        "print(result)\n",
        "print('KPSS Test Statistic: %.2f' % result[0])\n",
        "print('5%% Critical Value: %.2f' % result[3]['5%'])\n",
        "print('p-value: %.2f' % result[1])"
      ],
      "execution_count": null,
      "outputs": []
    },
    {
      "cell_type": "markdown",
      "metadata": {
        "id": "UZTsJbLh8ehN"
      },
      "source": [
        "As we can see, the p-value is less than 0.05. We reject the null hypothesis and conclude that the time series is not stationary. "
      ]
    },
    {
      "cell_type": "markdown",
      "metadata": {
        "id": "JbQz2tma8ehO"
      },
      "source": [
        "To know more about stationarity and tests related to it, click [here](https://blog.quantinsti.com/stationarity/)."
      ]
    },
    {
      "cell_type": "markdown",
      "metadata": {
        "id": "sqVKysZRAn_S"
      },
      "source": [
        "### Ljung Box Test to check Autocorrelation"
      ]
    },
    {
      "cell_type": "markdown",
      "metadata": {
        "id": "wDN4IkAaAwis"
      },
      "source": [
        "The Ljung-Box test is a statistical test that checks if autocorrelation exists in a time series.\n",
        "\n",
        "It uses the following hypotheses:\n",
        "\n",
        "* H0: The data are independently distributed.\n",
        "\n",
        "* HA: The data are not independently distributed; they exhibit serial correlation.\n",
        "\n",
        "Ideally, we would like to fail to reject the null hypothesis. That is, we would like to see the p-value of the test be greater than 0.05 because this means the residuals for our time series model are independent, which is often an assumption we make when creating a model."
      ]
    },
    {
      "cell_type": "markdown",
      "metadata": {
        "id": "iFWxsevVBWp5"
      },
      "source": [
        "To perform the Ljung-Box test on a data series in Python, we can use the `acorr_ljungbox()` function from the statsmodels library which uses the following syntax:\n",
        "\n",
        "**acorr_ljungbox(x, lags=None)**\n",
        "\n",
        "where:\n",
        "\n",
        "* **x:** The data series\n",
        "* **lags:** Number of lags to test\n",
        "\n",
        "This function returns a test statistic and a corresponding p-value. If the p-value is less than some threshold (e.g. α = .05), we can reject the null hypothesis and conclude that the residuals are not independently distributed."
      ]
    },
    {
      "cell_type": "code",
      "metadata": {
        "id": "k34PDfMRB9Gh"
      },
      "source": [
        "# Perform Ljung-Box test on Production series with lag=5\n",
        "\n",
        "test_stats, p = sm.stats.acorr_ljungbox(df['Production'], lags = [5])\n",
        "print(\"Test statistic: \", test_stats)\n",
        "print(\"p-value: \", p)"
      ],
      "execution_count": null,
      "outputs": []
    },
    {
      "cell_type": "markdown",
      "metadata": {
        "id": "OsL8tnqlCPlO"
      },
      "source": [
        "From the above results, we can see that the p-value of the test is much less than 0.05. Thus, **we reject the null hypothesis** of the test and conclude that the series values are **not independent** i.e., autocorrelation exists.\n",
        "\n",
        "Note that we chose to use a lag value of 5 in this example, but we can choose any value we like to use for the lag."
      ]
    },
    {
      "cell_type": "markdown",
      "metadata": {
        "id": "VHfHdGCP_n6Y"
      },
      "source": [
        "### Please answer the questions below to complete the experiment:\n",
        "\n",
        "\n"
      ]
    },
    {
      "cell_type": "code",
      "metadata": {
        "id": "VgSwVENIPcM6"
      },
      "source": [
        "#@title Select the False statement: { run: \"auto\", form-width: \"500px\", display-mode: \"form\" }\n",
        "Answer = \"\" #@param [\"\", \"Null hypothesis for Augmented Dickey-Fuller test suggests the time series is non-stationary\", \"Null hypothesis for Ljung Box test is the data are not independently distributed and they exhibit serial correlation\", \"Alternate hypothesis for Phillips Perron test suggests the time series does not have a unit root, meaning it is stationary\"]"
      ],
      "execution_count": null,
      "outputs": []
    },
    {
      "cell_type": "code",
      "metadata": {
        "id": "NMzKSbLIgFzQ"
      },
      "source": [
        "#@title How was the experiment? { run: \"auto\", form-width: \"500px\", display-mode: \"form\" }\n",
        "Complexity = \"\" #@param [\"\",\"Too Simple, I am wasting time\", \"Good, But Not Challenging for me\", \"Good and Challenging for me\", \"Was Tough, but I did it\", \"Too Difficult for me\"]\n"
      ],
      "execution_count": null,
      "outputs": []
    },
    {
      "cell_type": "code",
      "metadata": {
        "id": "DjcH1VWSFI2l"
      },
      "source": [
        "#@title If it was too easy, what more would you have liked to be added? If it was very difficult, what would you have liked to have been removed? { run: \"auto\", display-mode: \"form\" }\n",
        "Additional = \"\" #@param {type:\"string\"}\n"
      ],
      "execution_count": null,
      "outputs": []
    },
    {
      "cell_type": "code",
      "metadata": {
        "id": "4VBk_4VTAxCM"
      },
      "source": [
        "#@title Can you identify the concepts from the lecture which this experiment covered? { run: \"auto\", vertical-output: true, display-mode: \"form\" }\n",
        "Concepts = \"\" #@param [\"\",\"Yes\", \"No\"]\n"
      ],
      "execution_count": null,
      "outputs": []
    },
    {
      "cell_type": "code",
      "metadata": {
        "id": "XH91cL1JWH7m"
      },
      "source": [
        "#@title  Text and image description/explanation and code comments within the experiment: { run: \"auto\", vertical-output: true, display-mode: \"form\" }\n",
        "Comments = \"\" #@param [\"\",\"Very Useful\", \"Somewhat Useful\", \"Not Useful\", \"Didn't use\"]\n"
      ],
      "execution_count": null,
      "outputs": []
    },
    {
      "cell_type": "code",
      "metadata": {
        "id": "z8xLqj7VWIKW"
      },
      "source": [
        "#@title Mentor Support: { run: \"auto\", vertical-output: true, display-mode: \"form\" }\n",
        "Mentor_support = \"\" #@param [\"\",\"Very Useful\", \"Somewhat Useful\", \"Not Useful\", \"Didn't use\"]\n"
      ],
      "execution_count": null,
      "outputs": []
    },
    {
      "cell_type": "code",
      "metadata": {
        "id": "FzAZHt1zw-Y-",
        "cellView": "form"
      },
      "source": [
        "#@title Run this cell to submit your notebook for grading { vertical-output: true }\n",
        "try:\n",
        "  if submission_id:\n",
        "      return_id = submit_notebook()\n",
        "      if return_id : submission_id = return_id\n",
        "  else:\n",
        "      print(\"Please complete the setup first.\")\n",
        "except NameError:\n",
        "  print (\"Please complete the setup first.\")"
      ],
      "execution_count": null,
      "outputs": []
    },
    {
      "cell_type": "code",
      "source": [
        ""
      ],
      "metadata": {
        "id": "Ar82kk01IPKs"
      },
      "execution_count": null,
      "outputs": []
    }
  ]
}