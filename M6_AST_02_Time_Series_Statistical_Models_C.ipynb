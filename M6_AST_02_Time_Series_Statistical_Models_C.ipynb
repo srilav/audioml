{
  "nbformat": 4,
  "nbformat_minor": 0,
  "metadata": {
    "colab": {
      "name": "M6_AST_02_Time_Series_Statistical_Models_C.ipynb",
      "provenance": [],
      "collapsed_sections": [],
      "include_colab_link": true
    },
    "kernelspec": {
      "display_name": "Python 3",
      "language": "python",
      "name": "python3"
    },
    "language_info": {
      "codemirror_mode": {
        "name": "ipython",
        "version": 3
      },
      "file_extension": ".py",
      "mimetype": "text/x-python",
      "name": "python",
      "nbconvert_exporter": "python",
      "pygments_lexer": "ipython3",
      "version": "3.8.5"
    }
  },
  "cells": [
    {
      "cell_type": "markdown",
      "metadata": {
        "id": "view-in-github",
        "colab_type": "text"
      },
      "source": [
        "<a href=\"https://colab.research.google.com/github/srilav/audioml/blob/master/M6_AST_02_Time_Series_Statistical_Models_C.ipynb\" target=\"_parent\"><img src=\"https://colab.research.google.com/assets/colab-badge.svg\" alt=\"Open In Colab\"/></a>"
      ]
    },
    {
      "cell_type": "markdown",
      "metadata": {
        "id": "MZQMVE4gmAlY"
      },
      "source": [
        "# Advanced Certification Program in Computational Data Science\n",
        "## A program by IISc and TalentSprint\n",
        "### Assignment 2: Time Series Statistical Models"
      ]
    },
    {
      "cell_type": "markdown",
      "metadata": {
        "id": "UpgCEb9kmJ2Y"
      },
      "source": [
        "## Learning Objectives"
      ]
    },
    {
      "cell_type": "markdown",
      "metadata": {
        "id": "rZkwoKfWmNJj"
      },
      "source": [
        "At the end of the experiment, you will be able to\n",
        "\n",
        "* understand the time series and it's components\n",
        "* know what are time series statistical models\n",
        "* measure the dependence of series: auto and cross correlation\n",
        "* understand stationary time series\n",
        "* perform correlation analysis on SOI and Recruitment time series "
      ]
    },
    {
      "cell_type": "markdown",
      "metadata": {
        "id": "jtdSVLWombeQ"
      },
      "source": [
        "### Time Series"
      ]
    },
    {
      "cell_type": "markdown",
      "metadata": {
        "id": "o6524vUQVStJ"
      },
      "source": [
        "Time series is a sequence of observations recorded at regular time intervals. Time series analysis involves understanding various aspects of the inherent nature of the series to create meaningful and accurate forecasts.\n",
        "\n",
        "The primary objective of time series analysis is to develop mathematical models that provide plausible descriptions for sample data. In order to provide a statistical setting for describing the character of data that seemingly fluctuate in a random fashion over time, we can assume a time series can be defined as a collection of random variables indexed according to the order they are obtained in time. \n",
        "\n",
        "For example, we may consider a time series as a sequence of random variables, $x_1, x_2, x_3, . . . ,$ where the random variable $x_1$ denotes the value taken by the series at the first time point, the variable $x_2$ denotes the value for the second time period, $x_3$ denotes the value for the third time period, and so on. In general, a collection of random variables, $\\{x_t \\}$, indexed by $t$ is referred to as a stochastic process. Here, $t$ will typically be discrete and vary over the integers $t = 0, ±1, ±2, ...,$ or some subset of the integers. The observed values of a stochastic process are referred to as a **realization** of the stochastic process."
      ]
    },
    {
      "cell_type": "markdown",
      "metadata": {
        "id": "BNLA8HiKxQhc"
      },
      "source": [
        "### Setup Steps:"
      ]
    },
    {
      "cell_type": "code",
      "metadata": {
        "id": "2YzfoPvJDiTX"
      },
      "source": [
        "#@title Please enter your registration id to start: { run: \"auto\", display-mode: \"form\" }\n",
        "Id = \"\" #@param {type:\"string\"}"
      ],
      "execution_count": null,
      "outputs": []
    },
    {
      "cell_type": "code",
      "metadata": {
        "id": "AjoZJWGErxGf"
      },
      "source": [
        "#@title Please enter your password (your registered phone number) to continue: { run: \"auto\", display-mode: \"form\" }\n",
        "password = \"\" #@param {type:\"string\"}"
      ],
      "execution_count": null,
      "outputs": []
    },
    {
      "cell_type": "code",
      "metadata": {
        "id": "WBPPuGmBlDIN",
        "cellView": "form"
      },
      "source": [
        "#@title Run this cell to complete the setup for this Notebook\n",
        "from IPython import get_ipython\n",
        "\n",
        "ipython = get_ipython()\n",
        "  \n",
        "notebook= \"M6_AST_02_Time_Series_Statistical_Models_C\" #name of the notebook\n",
        "\n",
        "def setup():\n",
        "#  ipython.magic(\"sx pip3 install torch\")  \n",
        "    ipython.magic(\"sx pip -q install astsadata\")\n",
        "    from IPython.display import HTML, display\n",
        "    display(HTML('<script src=\"https://dashboard.talentsprint.com/aiml/record_ip.html?traineeId={0}&recordId={1}\"></script>'.format(getId(),submission_id)))\n",
        "    print(\"Setup completed successfully\")\n",
        "    return\n",
        "\n",
        "def submit_notebook():\n",
        "    ipython.magic(\"notebook -e \"+ notebook + \".ipynb\")\n",
        "    \n",
        "    import requests, json, base64, datetime\n",
        "\n",
        "    url = \"https://dashboard.talentsprint.com/xp/app/save_notebook_attempts\"\n",
        "    if not submission_id:\n",
        "      data = {\"id\" : getId(), \"notebook\" : notebook, \"mobile\" : getPassword()}\n",
        "      r = requests.post(url, data = data)\n",
        "      r = json.loads(r.text)\n",
        "\n",
        "      if r[\"status\"] == \"Success\":\n",
        "          return r[\"record_id\"]\n",
        "      elif \"err\" in r:        \n",
        "        print(r[\"err\"])\n",
        "        return None        \n",
        "      else:\n",
        "        print (\"Something is wrong, the notebook will not be submitted for grading\")\n",
        "        return None\n",
        "    \n",
        "    elif getAnswer() and getComplexity() and getAdditional() and getConcepts() and getComments() and getMentorSupport():\n",
        "      f = open(notebook + \".ipynb\", \"rb\")\n",
        "      file_hash = base64.b64encode(f.read())\n",
        "\n",
        "      data = {\"complexity\" : Complexity, \"additional\" :Additional, \n",
        "              \"concepts\" : Concepts, \"record_id\" : submission_id, \n",
        "              \"answer\" : Answer, \"id\" : Id, \"file_hash\" : file_hash,\n",
        "              \"notebook\" : notebook,\n",
        "              \"feedback_experiments_input\" : Comments,\n",
        "              \"feedback_mentor_support\": Mentor_support}\n",
        "      r = requests.post(url, data = data)\n",
        "      r = json.loads(r.text)\n",
        "      if \"err\" in r:        \n",
        "        print(r[\"err\"])\n",
        "        return None   \n",
        "      else:\n",
        "        print(\"Your submission is successful.\")\n",
        "        print(\"Ref Id:\", submission_id)\n",
        "        print(\"Date of submission: \", r[\"date\"])\n",
        "        print(\"Time of submission: \", r[\"time\"])\n",
        "        print(\"View your submissions: https://cds.iisc.talentsprint.com/notebook_submissions\")\n",
        "        #print(\"For any queries/discrepancies, please connect with mentors through the chat icon in LMS dashboard.\")\n",
        "        return submission_id\n",
        "    else: submission_id\n",
        "    \n",
        "\n",
        "def getAdditional():\n",
        "  try:\n",
        "    if not Additional: \n",
        "      raise NameError\n",
        "    else:\n",
        "      return Additional  \n",
        "  except NameError:\n",
        "    print (\"Please answer Additional Question\")\n",
        "    return None\n",
        "\n",
        "def getComplexity():\n",
        "  try:\n",
        "    if not Complexity:\n",
        "      raise NameError\n",
        "    else:\n",
        "      return Complexity\n",
        "  except NameError:\n",
        "    print (\"Please answer Complexity Question\")\n",
        "    return None\n",
        "  \n",
        "def getConcepts():\n",
        "  try:\n",
        "    if not Concepts:\n",
        "      raise NameError\n",
        "    else:\n",
        "      return Concepts\n",
        "  except NameError:\n",
        "    print (\"Please answer Concepts Question\")\n",
        "    return None\n",
        "  \n",
        "  \n",
        "# def getWalkthrough():\n",
        "#   try:\n",
        "#     if not Walkthrough:\n",
        "#       raise NameError\n",
        "#     else:\n",
        "#       return Walkthrough\n",
        "#   except NameError:\n",
        "#     print (\"Please answer Walkthrough Question\")\n",
        "#     return None\n",
        "  \n",
        "def getComments():\n",
        "  try:\n",
        "    if not Comments:\n",
        "      raise NameError\n",
        "    else:\n",
        "      return Comments\n",
        "  except NameError:\n",
        "    print (\"Please answer Comments Question\")\n",
        "    return None\n",
        "  \n",
        "\n",
        "def getMentorSupport():\n",
        "  try:\n",
        "    if not Mentor_support:\n",
        "      raise NameError\n",
        "    else:\n",
        "      return Mentor_support\n",
        "  except NameError:\n",
        "    print (\"Please answer Mentor support Question\")\n",
        "    return None\n",
        "\n",
        "def getAnswer():\n",
        "  try:\n",
        "    if not Answer:\n",
        "      raise NameError \n",
        "    else: \n",
        "      return Answer\n",
        "  except NameError:\n",
        "    print (\"Please answer Question\")\n",
        "    return None\n",
        "  \n",
        "\n",
        "def getId():\n",
        "  try: \n",
        "    return Id if Id else None\n",
        "  except NameError:\n",
        "    return None\n",
        "\n",
        "def getPassword():\n",
        "  try:\n",
        "    return password if password else None\n",
        "  except NameError:\n",
        "    return None\n",
        "\n",
        "submission_id = None\n",
        "### Setup \n",
        "if getPassword() and getId():\n",
        "  submission_id = submit_notebook()\n",
        "  if submission_id:\n",
        "    setup() \n",
        "else:\n",
        "  print (\"Please complete Id and Password cells before running setup\")\n",
        "\n"
      ],
      "execution_count": null,
      "outputs": []
    },
    {
      "cell_type": "markdown",
      "metadata": {
        "id": "jN_q7fOXNRV4"
      },
      "source": [
        "### Import required packages"
      ]
    },
    {
      "cell_type": "code",
      "metadata": {
        "id": "bXLt7lspNUNk"
      },
      "source": [
        "import numpy as np\n",
        "import pandas as pd\n",
        "import matplotlib.pyplot as plt\n",
        "import warnings\n",
        "warnings.filterwarnings(\"ignore\")\n",
        "from statsmodels.graphics.tsaplots import plot_acf\n",
        "from astsadata import globtemp, jj, speech, EQ5, EXP6, soi, rec          # Load some astsa(applied statistical time series analysis) data files"
      ],
      "execution_count": null,
      "outputs": []
    },
    {
      "cell_type": "markdown",
      "metadata": {
        "id": "bhBgxT6iHeq1"
      },
      "source": [
        "#### Components of Time series: Trend"
      ]
    },
    {
      "cell_type": "markdown",
      "metadata": {
        "id": "psij2imgHeq4"
      },
      "source": [
        "Trend: The general tendency of a time series to increase, decrease or stagnate over a long period of time."
      ]
    },
    {
      "cell_type": "code",
      "metadata": {
        "id": "ACiernz4Heq5"
      },
      "source": [
        "# Visualize yearly average global temperature deviations\n",
        "globtemp.plot(xlabel='Time', ylabel='Global Temperature Deviations', marker='o', legend=False)\n",
        "plt.show()"
      ],
      "execution_count": null,
      "outputs": []
    },
    {
      "cell_type": "markdown",
      "metadata": {
        "id": "RZmTU4M5Heq6"
      },
      "source": [
        "Consider the global temperature series record shown in the above plot. The data are the global mean land-ocean temperature index from 1880 to 2015, with the base period 1951-1980. In particular, the data are deviations, measured in degrees centigrade, from the 1951-1980 average. We note an apparent upward trend in the series during the latter part of the twentieth century that has been used as an argument for the global warming hypothesis."
      ]
    },
    {
      "cell_type": "markdown",
      "metadata": {
        "id": "vqqpIvAqHeq6"
      },
      "source": [
        "#### Components of Time series: Seasonality"
      ]
    },
    {
      "cell_type": "markdown",
      "metadata": {
        "id": "wuPrjrY2Heq7"
      },
      "source": [
        "Seasonal variation: Explains the fluctuations within a year during the season, probably caused by climate and weather conditions, customs, etc."
      ]
    },
    {
      "cell_type": "code",
      "metadata": {
        "id": "RrCyQMKVHeq7"
      },
      "source": [
        "# Visualize Johnson & Johnson quarterly earnings per share\n",
        "jj.plot(xlabel='Time', ylabel='Quarterly Earnings per Share', marker='o', legend=False)\n",
        "plt.show()"
      ],
      "execution_count": null,
      "outputs": []
    },
    {
      "cell_type": "markdown",
      "metadata": {
        "id": "_t95l8lTHeq8"
      },
      "source": [
        "The above plot shows quarterly earnings per share for the U.S. company Johnson & Johnson, furnished by Professor Paul Griffin of the Graduate School of Management, University of California, Davis. There are 84 quarters (21 years) measured from the first quarter of 1960 to the last quarter of 1980. Modeling such series begins by observing the primary patterns in the time\n",
        "history. In this case, note the gradually increasing underlying trend and the rather regular variation superimposed on the trend that seems to repeat over quarters."
      ]
    },
    {
      "cell_type": "markdown",
      "metadata": {
        "id": "gfNNqqVuHeq8"
      },
      "source": [
        "#### Components of Time series: Cyclical variation"
      ]
    },
    {
      "cell_type": "markdown",
      "metadata": {
        "id": "pqqGczMIHeq8"
      },
      "source": [
        "This component describes the medium-term changes caused by circumstances, which repeat in cycles."
      ]
    },
    {
      "cell_type": "code",
      "metadata": {
        "id": "UpgqOw1VHeq8"
      },
      "source": [
        "# Visualize speech recording of the syllable aaa · · · hhh\n",
        "speech.plot(legend=False)\n",
        "plt.show()"
      ],
      "execution_count": null,
      "outputs": []
    },
    {
      "cell_type": "markdown",
      "metadata": {
        "id": "aDX3iJ-NHeq9"
      },
      "source": [
        "The above plot shows a small .1 second (1000 point) sample of recorded speech for the phrase aaa · · · hhh, and we note the repetitive nature of the signal and the rather regular periodicities. We can notice the rather regular repetition of small wavelets. The separation between the packets is known as the pitch period and represents the response of the vocal tract filter to a periodic sequence of pulses stimulated by the opening and closing of the glottis."
      ]
    },
    {
      "cell_type": "markdown",
      "metadata": {
        "id": "SEoPLUCDHeq9"
      },
      "source": [
        "#### Components of Time series: Irregular variation"
      ]
    },
    {
      "cell_type": "markdown",
      "metadata": {
        "id": "80CSS0XLHeq9"
      },
      "source": [
        "Irregular variations in a time series are caused by unpredictable influences, which are not regular and do not repeat in a particular pattern. These variations are caused by incidences such as explosion, strike, earthquake, flood, revolution, etc."
      ]
    },
    {
      "cell_type": "code",
      "metadata": {
        "id": "bmOzwuXbHeq-"
      },
      "source": [
        "# Visualize arrival phases from an earthquake and explosion\n",
        "fig, axes = plt.subplots(nrows=2, figsize=(7, 5))\n",
        "EQ5.plot(ax=axes[0], ylabel=\"EQ5\", title=\"Earthquake\", legend=False)\n",
        "EXP6.plot(ax=axes[1], ylabel=\"EXP6\", title=\"Explosion\", legend=False)\n",
        "fig.tight_layout()\n",
        "plt.show()"
      ],
      "execution_count": null,
      "outputs": []
    },
    {
      "cell_type": "markdown",
      "metadata": {
        "id": "PA_vIe3-J7Hw"
      },
      "source": [
        "### Statistical Models"
      ]
    },
    {
      "cell_type": "markdown",
      "metadata": {
        "id": "PmANyMMsHeq-"
      },
      "source": [
        "The fundamental visual characteristic distinguishing the different series is their differing degrees of smoothness. One possible explanation for this smoothness is that it is being induced by the supposition that adjacent points in time are correlated, so the value of the series at time $t$, say, $x_t$, depends in some way on the past values $x_{t−1}, x_{t−2}, \\cdots$. This model expresses a fundamental way to generate realistic-looking time series."
      ]
    },
    {
      "cell_type": "markdown",
      "metadata": {
        "id": "29qsVC0eDTZA"
      },
      "source": [
        "#### White Noise"
      ]
    },
    {
      "cell_type": "markdown",
      "metadata": {
        "id": "jT9WkR2TDXsV"
      },
      "source": [
        "A simple kind of generated series is a collection of uncorrelated random\n",
        "variables, $w_t$, with mean $0$ and finite variance $σ^2_w$. The time series generated from uncorrelated variables is used as a model for noise in engineering applications, where it is called **white noise**; we denote this process as $w_t ∼ wn(0, σ^2_w)$. \n",
        "\n",
        "A particularly useful white noise series is Gaussian white noise, wherein the $w_t$ are independent normal random variables, with mean $0$ and variance $σ^2_w$."
      ]
    },
    {
      "cell_type": "markdown",
      "metadata": {
        "id": "be-t6JQHHeq_"
      },
      "source": [
        "<font color=\"blue\">Discussion 1: What is the significance of 'white' in White Noise?</font>"
      ]
    },
    {
      "cell_type": "markdown",
      "metadata": {
        "id": "M83UILgRHeq_"
      },
      "source": [
        "Let's create and plot a Gaussian white noise with mean= 0 and variance= 1:"
      ]
    },
    {
      "cell_type": "code",
      "metadata": {
        "id": "r_VjdjzAqb9q"
      },
      "source": [
        "# Seed random number generator\n",
        "np.random.seed(1)\n",
        "\n",
        "mean = 0.0\n",
        "var = 1.0\n",
        "# Create white noise series\n",
        "series = [np.random.normal(mean, var**0.5) for i in range(1000)]\n",
        "series = pd.Series(series)\n",
        "\n",
        "# Visualize series\n",
        "plt.figure(figsize=(20, 2))\n",
        "plt.plot(series)\n",
        "plt.title(\"White noise\")\n",
        "plt.show()"
      ],
      "execution_count": null,
      "outputs": []
    },
    {
      "cell_type": "markdown",
      "metadata": {
        "id": "GiEpVKjgDPGv"
      },
      "source": [
        "The resulting series is not smooth enough to serve as a plausible model for any of the other experimental series. The plot tends to show visually a mixture of many different kinds of oscillations in the white noise series.\n",
        "\n",
        "If the stochastic behavior of all time series could be explained in terms of the\n",
        "white noise model, classical statistical methods would suffice. Two ways of introducing serial correlation and more smoothness into time series models are:\n",
        "\n",
        "* Moving Averages\n",
        "\n",
        "* Autoregressions"
      ]
    },
    {
      "cell_type": "markdown",
      "metadata": {
        "id": "6IJe9p3LPF5E"
      },
      "source": [
        "#### Moving Averages"
      ]
    },
    {
      "cell_type": "markdown",
      "metadata": {
        "id": "_9oQ_9aoaP3O"
      },
      "source": [
        "Moving average smooths the time series. For example, we can replace $w_t$ in white noise generated above by an average of its current value and its immediate neighbors in the past and future. That is, let\n",
        "\n",
        "$$v_t = \\frac{1}{3}(w_{t−1} + w_t + w_{t+1})$$\n",
        "\n",
        "which leads to a new series."
      ]
    },
    {
      "cell_type": "code",
      "metadata": {
        "id": "SpXSf0k5vIx1"
      },
      "source": [
        "# Moving average\n",
        "\n",
        "plt.figure(figsize=(20, 2))\n",
        "# Perform rolling operation\n",
        "new_series1 = series.rolling(window=3).mean()\n",
        "# Fill missing values with 0\n",
        "new_series1 = new_series1.fillna(0)\n",
        "plt.title(\"Moving average\")\n",
        "plt.plot(new_series1)\n",
        "plt.show()"
      ],
      "execution_count": null,
      "outputs": []
    },
    {
      "cell_type": "markdown",
      "metadata": {
        "id": "-VpB5voaSaqZ"
      },
      "source": [
        "From the above plot, we can see the new series shows a smoother version of the first series, reflecting the fact that the slower oscillations are more apparent and some of the faster oscillations are taken out."
      ]
    },
    {
      "cell_type": "markdown",
      "metadata": {
        "id": "nizAy2ynSm2U"
      },
      "source": [
        "#### Autoregressions"
      ]
    },
    {
      "cell_type": "markdown",
      "metadata": {
        "id": "imE88a-6StFq"
      },
      "source": [
        "Suppose we consider the white noise series $w_t$ as input and calculate the output using the second-order equation: \n",
        "\n",
        "$$x_t = x_{t−1} − 0.9x_{t−2} + w_t$$\n",
        "\n",
        "successively for $t = 1, 2, . . ., 1000$. \n",
        "\n",
        "The above equation represents a regression or prediction of the current value $x_t$ of a time series as a function of the past two values of the series. \n",
        "\n",
        "Let's create a new series using the above autoregression expression:"
      ]
    },
    {
      "cell_type": "markdown",
      "metadata": {
        "id": "kFyFt1dpHerB"
      },
      "source": [
        "<font color=\"blue\">Discussion 2: What is the significance of 'auto' in Autoregression?</font>"
      ]
    },
    {
      "cell_type": "code",
      "metadata": {
        "id": "MSyRUsc_1JpZ"
      },
      "source": [
        "# Autoregression\n",
        "xt_1 = 0\n",
        "xt_2 = 0\n",
        "new_series2 = list()\n",
        "for i in range(len(series)):\n",
        "    x = xt_1 - 0.9 * xt_2 + series[i]\n",
        "    if i > 1:\n",
        "        xt_2 = xt_1\n",
        "        xt_1 = x\n",
        "    new_series2.append(x)\n",
        "# Convert to Series datatype\n",
        "new_series2 = pd.Series(new_series2)\n",
        "len(new_series2)"
      ],
      "execution_count": null,
      "outputs": []
    },
    {
      "cell_type": "code",
      "metadata": {
        "id": "mOkLWKbh4xb7"
      },
      "source": [
        "# Visualize new series\n",
        "plt.figure(figsize=(20, 2))\n",
        "plt.plot(new_series2)\n",
        "plt.title(\"Autoregression\")\n",
        "plt.show()"
      ],
      "execution_count": null,
      "outputs": []
    },
    {
      "cell_type": "markdown",
      "metadata": {
        "id": "Wh9C-EW9VCZM"
      },
      "source": [
        "The resulting output series shows the periodic behavior of the series. The autoregressive model above and its generalizations can be used as an underlying model for many series."
      ]
    },
    {
      "cell_type": "markdown",
      "metadata": {
        "id": "1ptLpNtBWwQG"
      },
      "source": [
        "Now, let's see some various theoretical measures used for describing how time series behave. The most useful descriptive measures are those expressed in terms of covariance and correlation functions."
      ]
    },
    {
      "cell_type": "markdown",
      "metadata": {
        "id": "j1KtP2E8W16T"
      },
      "source": [
        "### Measure of Dependence (Optional)"
      ]
    },
    {
      "cell_type": "markdown",
      "metadata": {
        "id": "eoVkboUMHerD"
      },
      "source": [
        "Time series often display serial dependence. Serial dependence occurs when the value of a datapoint at one time is statistically dependent on another datapoint at another time. The lack of independence between two adjacent values $x_s$ and $x_t$ can be assessed numerically, as in classical statistics, using the notions of covariance and correlation. \n",
        "\n",
        "Assuming the variance of $x_t$ is finite, we have the autocovariance function defined as the second-moment product\n",
        "\n",
        "$$γ_x(s, t) = cov(x_s, x_t) = E[(x_s − µ_s)(x_t − µ_t)],$$\n",
        "\n",
        "for all $s$ and $t$.\n",
        "\n",
        "The **autocovariance measures the linear dependence between two points on the\n",
        "same series observed at different times**."
      ]
    },
    {
      "cell_type": "markdown",
      "metadata": {
        "id": "pkJo3UoHHerD"
      },
      "source": [
        "As in classical statistics, it is more convenient to deal with a measure of association between −1 and 1, and this leads to the **autocorrelation function (ACF)** defined as\n",
        "\n",
        "$$ρ(s, t) = \\frac{γ(s, t)}{\\sqrt{γ(s, s)γ(t, t)}}.$$\n",
        "\n",
        "The **ACF measures the linear predictability of the series at time $t$, say $x_t$ , using only the value $x_s$**. If we can predict $x_t$ perfectly from $x_s$ through a linear relationship, $x_t = β_0 + β_1 x_s$, then the correlation will be +1 when $β1 > 0$, and −1 when $β1 < 0$. Hence, we have a rough measure of the ability to forecast the series at time $t$ from the value at time $s$.\n",
        "\n",
        "Let's plot the autocorrelation of the white noise series and autoregression series separately as number of lag on x-axis.\n",
        "\n",
        "The lag is the number of time periods that separate the two time series."
      ]
    },
    {
      "cell_type": "code",
      "metadata": {
        "id": "PxrNa7iIHerD"
      },
      "source": [
        "# Visualize white noise autocorrelation\n",
        "plt.figure(figsize=(20, 2))\n",
        "plt.plot(series)\n",
        "plt.title(\"White noise\")\n",
        "\n",
        "plot_acf(series)\n",
        "plt.xlabel(\"Lag\")\n",
        "plt.ylabel(\"Autocorrelation\")\n",
        "plt.show()"
      ],
      "execution_count": null,
      "outputs": []
    },
    {
      "cell_type": "code",
      "metadata": {
        "id": "ZK58knQnHerE"
      },
      "source": [
        "# Visualize Autoregression autocorrelation\n",
        "plt.figure(figsize=(20, 2))\n",
        "plt.plot(new_series2)\n",
        "plt.title(\"Autoregression\")\n",
        "\n",
        "plot_acf(new_series2)\n",
        "plt.xlabel(\"Lag\")\n",
        "plt.ylabel(\"Autocorrelation\")\n",
        "plt.show()"
      ],
      "execution_count": null,
      "outputs": []
    },
    {
      "cell_type": "markdown",
      "metadata": {
        "id": "gCwXo-FlHerF"
      },
      "source": [
        "From the above plots, it can be seen that very smooth series (eg. autoregression series) exhibit autocovariance functions that stay large even when the $t$ and $s$ are far apart (higher `lags` value), whereas choppy series (eg. white noise) tend to have autocovariance functions that are nearly zero for large separations.\n",
        "\n",
        "**Note:** Those lags with values exceeding the shaded band are significant."
      ]
    },
    {
      "cell_type": "markdown",
      "metadata": {
        "id": "AucGdbbnHerF"
      },
      "source": [
        "Similarly, we can measure the predictability of another series $y_t$ from the series $x_s$. Assuming both series have finite variances, we have the **cross-covariance function** between two series, $x_t$ and $y_t$ given by,\n",
        "\n",
        "$$γ_{xy}(s, t) = cov(x_s, y_t) = E[(x_s − µ_{xs})(y_t − µ_{yt})].$$\n",
        "\n",
        "The scaled version of the cross-covariance function is the **cross-correlation function (CCF)** given by\n",
        "\n",
        "$$ρ_{xy}(s, t) = \\frac{γ_{xy}(s, t)}{\\sqrt{γ_x(s, s)γ_y(t, t)}}.$$\n",
        "\n",
        "Let's plot the crosscorrelation of the white noise series and autoregressive series."
      ]
    },
    {
      "cell_type": "code",
      "metadata": {
        "id": "RLXpKBNzHerF"
      },
      "source": [
        "# Visualize crosscorrelation b/w autoregressive and white noise series\n",
        "plt.xcorr(series, new_series2)\n",
        "plt.xlabel(\"Lag\")\n",
        "plt.ylabel(\"Crosscorrelation\")\n",
        "plt.show()"
      ],
      "execution_count": null,
      "outputs": []
    },
    {
      "cell_type": "markdown",
      "metadata": {
        "id": "3ZrWiX_VHerF"
      },
      "source": [
        "From the above plot, we can see the predictability of autoregressive series from the white noise series for negative lag values. This is because the negative lag means the white noise series is shifted forward and the autoregression is derived from the linear relationship of the previous time point values. However, for positive lag values, the correlation is less as in this case the autoregressive series is shifted forward."
      ]
    },
    {
      "cell_type": "markdown",
      "metadata": {
        "id": "gp2aDgzDHerF"
      },
      "source": [
        "### Stationary Time Series"
      ]
    },
    {
      "cell_type": "markdown",
      "metadata": {
        "id": "pqwJK-zuHerF"
      },
      "source": [
        "A sort of regularity may exist over time in the behavior of a time series which can be introduced using a concept called **stationarity**.\n",
        "\n",
        "A **strictly stationary** time series is one for which the probabilistic behavior of every collection of values $\\{x_{t_1}, x_{t_2}, . . ., x_{t_k}\\}$ is identical to that of the time shifted set $\\{x_{t_{1+h}}, x_{t_{2+h}}, . . ., x_{t_{k+h}}\\}.$ That is,\n",
        "\n",
        "$$Pr\\{x_{t_1} ≤ c_1, . . ., x_{t_k} ≤ c_k \\} = Pr\\{x_{t_{1+h}} ≤ c_1, . . ., x_{t_{k+h}} ≤ c_k \\}$$\n",
        "\n",
        "for all $k = 1, 2, ...,$ all time points $t_1, t_2, . . ., t_k$ , all numbers $c_1, c_2, . . ., c_k$ , and all time shifts $h = 0, ±1, ±2, \\cdots $."
      ]
    },
    {
      "cell_type": "markdown",
      "metadata": {
        "id": "NMfdN3E4HerG"
      },
      "source": [
        "If a time series is strictly stationary, then all of the multivariate distribution functions for subsets of variables must agree with their counterparts in the shifted set for all values of the shift parameter h. In addition, \n",
        "\n",
        "* if the mean function, $µ_t$, of the series exists, the above expression implies that $µ_s = µ_t$ for all $s$ and $t$, and hence $µ_t$ must be constant.\n",
        "\n",
        "* if the variance function of the process exists, the autocovariance function of the process depends only on the time difference between $s$ and $t$, and not on the actual times i.e, $γ(s,t)=γ(s+h,t+h)$.\n",
        "\n",
        "Now, rather than imposing conditions on all possible distributions of a time series, we can use a milder version that imposes conditions only on the first two moments of the series i.e, weakly stationary."
      ]
    },
    {
      "cell_type": "markdown",
      "metadata": {
        "id": "qWkbYTywHerG"
      },
      "source": [
        "A **weakly stationary** time series, $x_t$, is a finite variance process such that\n",
        "\n",
        "* the mean value function, $µ_t$, is constant and does not depend on time $t$, and\n",
        "\n",
        "* the autocovariance function, $γ(s, t)$, depends on $s$ and $t$ only through their difference $|s − t|$.\n",
        "\n",
        "Stationarity requires regularity in the mean and autocorrelation functions so that these quantities (at least) may be estimated by averaging. One important case where weakly stationarity implies strict stationarity is if the time series is Gaussian (meaning all finite distributions of the series are Gaussian).\n",
        "\n",
        "As the mean function, $E(x_t) = µ_t$, of a stationary time series is independent of time $t$, we can write $µ_t = µ.$\n",
        "\n",
        "Also, because the autocovariance function, $γ(s, t)$, of a stationary time series, $x_t$, depends on $s$ and $t$ only through their difference $|s −t|$, we may simplify the notation.\n",
        "\n",
        "Let $s = t + h$, where $h$ represents the time shift or lag. Then\n",
        "\n",
        "$$γ(t + h, t) = cov(x_{t+h}, x_t) = cov(x_h, x_0) = γ(h, 0)$$\n",
        "\n",
        "because the time difference between times $t+h$ and $t$ is the same as the time difference between times $h$ and $0$. Thus, the autocovariance function of a stationary time series does not depend on the time argument $t$. Therefore, we can drop the second argument of $γ(h, 0)$."
      ]
    },
    {
      "cell_type": "markdown",
      "metadata": {
        "id": "RE05cvcZHerG"
      },
      "source": [
        "The **autocovariance function** of a stationary time series will be written as\n",
        "\n",
        "$$γ(h) = cov(x_{t+h}, x_t) = E[(x_{t+h} − µ)(x_t − µ)].$$\n",
        "\n",
        "The **autocorrelation function (ACF)** of a stationary time series will be written as\n",
        "\n",
        "$$ρ(h) = \\frac{γ(t + h, t)}{\\sqrt{γ(t + h, t + h)γ(t, t)}} = \\frac{γ(h)}{γ(0)}.$$\n",
        "\n",
        "To know more about stationary time series, click [here](https://towardsdatascience.com/stationarity-in-time-series-analysis-90c94f27322)."
      ]
    },
    {
      "cell_type": "markdown",
      "metadata": {
        "id": "piclOEEPHerG"
      },
      "source": [
        "**Stationarity of White Noise**\n",
        "\n",
        "The mean and autocovariance functions of the white noise series are easily evaluated as $µ_{wt} = 0$ and \n",
        "\n",
        "$$γ_w(h) = cov(w_{t+h}, w_t) =\\begin{equation}\n",
        "\\left\\{ \n",
        "  \\begin{aligned}\n",
        "    &\\sigma_w^2&  \\ \\ h = 0, \\\\\n",
        "    &0&   \\ h \\neq 0,\\\\ \n",
        "  \\end{aligned}\n",
        "  \\right.\n",
        "\\end{equation}\n",
        "$$\n",
        "\n",
        "Thus, white noise satisfies the conditions and is weakly stationary\n",
        "or stationary. If the white noise variates are also normally distributed, the series is also strictly stationary. The autocorrelation function is given by $ρ_w(0) = 1$ and $ρ(h) = 0$ for $h \\neq 0$ as shown in the below code cell."
      ]
    },
    {
      "cell_type": "code",
      "metadata": {
        "id": "wO3Nr-OiHerG"
      },
      "source": [
        "# Visualize autocorrelation of white noise series\n",
        "plt.xcorr(series, series)\n",
        "plt.xlabel(\"Lag\")\n",
        "plt.ylabel(\"ACF\")\n",
        "plt.show()"
      ],
      "execution_count": null,
      "outputs": []
    },
    {
      "cell_type": "markdown",
      "metadata": {
        "id": "stLIPMDxHerG"
      },
      "source": [
        "**Stationarity of a Moving Average**\n",
        "\n",
        "The three-point moving average process is stationary because, the mean and autocovariance functions $µ_{v_t} = 0$, and\n",
        "\n",
        "$$γ_v(h) =\\begin{equation}\n",
        "\\left\\{ \n",
        "  \\begin{aligned}\n",
        "    &\\frac{3}{9}\\sigma_w^2&  \\ \\ h = 0, \\\\\n",
        "    &\\frac{2}{9}\\sigma_w^2&  \\ \\ h = \\pm1, \\\\\n",
        "    &\\frac{1}{9}\\sigma_w^2&  \\ \\ h = \\pm2, \\\\\n",
        "    &0&   \\ |h| > 2,\\\\ \n",
        "  \\end{aligned}\n",
        "  \\right.\n",
        "\\end{equation}\n",
        "$$\n",
        "\n",
        "are independent of time $t$, satisfying the conditions of weakly stationary series. The autocorrelation function is given by\n",
        "\n",
        "$$ρ_v(h) =\\begin{equation}\n",
        "\\left\\{ \n",
        "  \\begin{aligned}\n",
        "    &1&  \\ \\ h = 0, \\\\\n",
        "    &2/3&  \\ \\ h = \\pm1, \\\\\n",
        "    &1/3&  \\ \\ h = \\pm2, \\\\\n",
        "    &0&   \\ |h| > 2,\\\\ \n",
        "  \\end{aligned}\n",
        "  \\right.\n",
        "\\end{equation}\n",
        "$$\n"
      ]
    },
    {
      "cell_type": "code",
      "metadata": {
        "id": "PFv-xGw8HerH"
      },
      "source": [
        "# Visualize autocorrelation of moving average series\n",
        "plt.xcorr(new_series1, new_series1)\n",
        "plt.xlabel(\"Lag\")\n",
        "plt.ylabel(\"ACF\")\n",
        "plt.show()"
      ],
      "execution_count": null,
      "outputs": []
    },
    {
      "cell_type": "markdown",
      "metadata": {
        "id": "kqLPs_uHHerH"
      },
      "source": [
        "**SOI and Recruitment Correlation Analysis**\n",
        "\n",
        "The autocorrelation and cross-correlation functions are also useful for analyzing the joint behavior of two stationary series whose behavior may be related in some unspecified way. \n",
        "\n",
        "We have simultaneous monthly readings of an environmental series called the **Southern Oscillation Index (SOI)** and associated **Recruitment (number of new fish)** furnished by Dr. Roy Mendelssohn of the Pacific Environmental Fisheries Group. The SOI measures changes in air pressure, related to sea surface temperatures in the central Pacific Ocean. Both series are for a period of 453 months ranging over the years 1950–1987."
      ]
    },
    {
      "cell_type": "code",
      "metadata": {
        "id": "Dbdm39rGHerH"
      },
      "source": [
        "# Visualize SOI series\n",
        "plt.figure(figsize=(20, 2))\n",
        "plt.plot(soi['value'].values)\n",
        "plt.title(\"Southern Oscillation Index\")\n",
        "plt.show()\n",
        "\n",
        "# Visualize Recruitement series\n",
        "plt.figure(figsize=(20, 2))\n",
        "plt.plot(rec['value'].values)\n",
        "plt.title(\"Recruitment\")\n",
        "plt.show()"
      ],
      "execution_count": null,
      "outputs": []
    },
    {
      "cell_type": "code",
      "metadata": {
        "id": "3URaEX3RHerH"
      },
      "source": [
        "# Visualize ACF of SOI series\n",
        "plot_acf(soi['value'].values, lags=48)\n",
        "plt.title(\"Southern Oscillation Index\")\n",
        "plt.xlabel(\"Lag\")\n",
        "plt.ylabel(\"ACF\")\n",
        "plt.show()"
      ],
      "execution_count": null,
      "outputs": []
    },
    {
      "cell_type": "code",
      "metadata": {
        "id": "8DSTX0KMHerI"
      },
      "source": [
        "# Visualize ACF of Recruitment series\n",
        "plot_acf(rec['value'].values, lags=48)\n",
        "plt.title(\"Recruitment\")\n",
        "plt.xlabel(\"Lag\")\n",
        "plt.ylabel(\"ACF\")\n",
        "plt.show()"
      ],
      "execution_count": null,
      "outputs": []
    },
    {
      "cell_type": "code",
      "metadata": {
        "id": "nlmVfTdPHerI"
      },
      "source": [
        "# Visualize CCF of SOI and Recruitment series\n",
        "\n",
        "ccf = list()\n",
        "max_lag = 12*4\n",
        "for i in range(-max_lag, max_lag):\n",
        "    # save CCF of SOI and Recruitement series at each lag\n",
        "    ccf.append(soi['value'].corr(rec['value'].shift(i)))\n",
        "    \n",
        "plt.figure(figsize=(7,5))\n",
        "plt.bar(range(-max_lag, max_lag), ccf)\n",
        "plt.plot([-max_lag, max_lag], [0, 0], 'k', ls='--')\n",
        "plt.title(\"SOI vs Recruitment\")\n",
        "plt.xlabel(\"Lag\")\n",
        "plt.ylabel(\"CCF\")\n",
        "plt.grid()\n",
        "plt.show()"
      ],
      "execution_count": null,
      "outputs": []
    },
    {
      "cell_type": "markdown",
      "metadata": {
        "id": "InZuKmDwHerI"
      },
      "source": [
        "The above plots shows the autocorrelation and cross-correlation functions (ACFs and CCF) for two series (SOI and Recruitment). Both of the ACFs exhibit periodicities corresponding to the correlation between values separated by 12 units. Observations 12 months or one year apart are strongly positively correlated, as are observations at multiples such as 24, 36, 48, . . . Observations separated by 6 months are negatively correlated, showing that positive excursions tend to be associated with negative excursions six months removed.\n",
        "\n",
        "The sample CCF, however, shows some departure from the cyclic component of each series and there is a peak at $h = −6$. This result implies that SOI measured at time $t-6$ months is associated with the Recruitment series at time $t$. We could say the SOI leads the Recruitment series by six months. The sign of the CCF is negative, leading to the conclusion that the two series move in different directions; that is, increases in SOI lead to decreases in Recruitment and vice versa."
      ]
    },
    {
      "cell_type": "markdown",
      "metadata": {
        "id": "VHfHdGCP_n6Y"
      },
      "source": [
        "### Please answer the questions below to complete the experiment:\n",
        "\n",
        "\n"
      ]
    },
    {
      "cell_type": "code",
      "metadata": {
        "id": "VgSwVENIPcM6"
      },
      "source": [
        "#@title Select the False statement: { run: \"auto\", form-width: \"500px\", display-mode: \"form\" }\n",
        "Answer = \"\" #@param [\"\", \"For a series to be weakly stationary, one of the conditions is that the mean value function should be constant\", \"The cross-correlation of a series with itself gives the auto-correlation of that series\", \"The cross-covariance measures the linear dependence between two points on the same series observed at different times\"]"
      ],
      "execution_count": null,
      "outputs": []
    },
    {
      "cell_type": "code",
      "metadata": {
        "id": "NMzKSbLIgFzQ"
      },
      "source": [
        "#@title How was the experiment? { run: \"auto\", form-width: \"500px\", display-mode: \"form\" }\n",
        "Complexity = \"\" #@param [\"\",\"Too Simple, I am wasting time\", \"Good, But Not Challenging for me\", \"Good and Challenging for me\", \"Was Tough, but I did it\", \"Too Difficult for me\"]\n"
      ],
      "execution_count": null,
      "outputs": []
    },
    {
      "cell_type": "code",
      "metadata": {
        "id": "DjcH1VWSFI2l"
      },
      "source": [
        "#@title If it was too easy, what more would you have liked to be added? If it was very difficult, what would you have liked to have been removed? { run: \"auto\", display-mode: \"form\" }\n",
        "Additional = \"\" #@param {type:\"string\"}\n"
      ],
      "execution_count": null,
      "outputs": []
    },
    {
      "cell_type": "code",
      "metadata": {
        "id": "4VBk_4VTAxCM"
      },
      "source": [
        "#@title Can you identify the concepts from the lecture which this experiment covered? { run: \"auto\", vertical-output: true, display-mode: \"form\" }\n",
        "Concepts = \"\" #@param [\"\",\"Yes\", \"No\"]\n"
      ],
      "execution_count": null,
      "outputs": []
    },
    {
      "cell_type": "code",
      "metadata": {
        "id": "XH91cL1JWH7m"
      },
      "source": [
        "#@title  Text and image description/explanation and code comments within the experiment: { run: \"auto\", vertical-output: true, display-mode: \"form\" }\n",
        "Comments = \"\" #@param [\"\",\"Very Useful\", \"Somewhat Useful\", \"Not Useful\", \"Didn't use\"]\n"
      ],
      "execution_count": null,
      "outputs": []
    },
    {
      "cell_type": "code",
      "metadata": {
        "id": "z8xLqj7VWIKW"
      },
      "source": [
        "#@title Mentor Support: { run: \"auto\", vertical-output: true, display-mode: \"form\" }\n",
        "Mentor_support = \"\" #@param [\"\",\"Very Useful\", \"Somewhat Useful\", \"Not Useful\", \"Didn't use\"]\n"
      ],
      "execution_count": null,
      "outputs": []
    },
    {
      "cell_type": "code",
      "metadata": {
        "id": "FzAZHt1zw-Y-",
        "cellView": "form"
      },
      "source": [
        "#@title Run this cell to submit your notebook for grading { vertical-output: true }\n",
        "try:\n",
        "  if submission_id:\n",
        "      return_id = submit_notebook()\n",
        "      if return_id : submission_id = return_id\n",
        "  else:\n",
        "      print(\"Please complete the setup first.\")\n",
        "except NameError:\n",
        "  print (\"Please complete the setup first.\")"
      ],
      "execution_count": null,
      "outputs": []
    }
  ]
}