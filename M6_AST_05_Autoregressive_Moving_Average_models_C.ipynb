{
  "nbformat": 4,
  "nbformat_minor": 0,
  "metadata": {
    "colab": {
      "name": "M6_AST_05_Autoregressive_Moving_Average_models_C.ipynb",
      "provenance": [],
      "collapsed_sections": [],
      "include_colab_link": true
    },
    "kernelspec": {
      "display_name": "Python 3",
      "language": "python",
      "name": "python3"
    },
    "language_info": {
      "codemirror_mode": {
        "name": "ipython",
        "version": 3
      },
      "file_extension": ".py",
      "mimetype": "text/x-python",
      "name": "python",
      "nbconvert_exporter": "python",
      "pygments_lexer": "ipython3",
      "version": "3.8.5"
    }
  },
  "cells": [
    {
      "cell_type": "markdown",
      "metadata": {
        "id": "view-in-github",
        "colab_type": "text"
      },
      "source": [
        "<a href=\"https://colab.research.google.com/github/srilav/audioml/blob/master/M6_AST_05_Autoregressive_Moving_Average_models_C.ipynb\" target=\"_parent\"><img src=\"https://colab.research.google.com/assets/colab-badge.svg\" alt=\"Open In Colab\"/></a>"
      ]
    },
    {
      "cell_type": "markdown",
      "metadata": {
        "id": "MZQMVE4gmAlY"
      },
      "source": [
        "# Advanced Certification Program in Computational Data Science\n",
        "## A program by IISc and TalentSprint\n",
        "### Assignment 5: Autoregressive Moving Average models"
      ]
    },
    {
      "cell_type": "markdown",
      "metadata": {
        "id": "UpgCEb9kmJ2Y"
      },
      "source": [
        "## Learning Objectives"
      ]
    },
    {
      "cell_type": "markdown",
      "metadata": {
        "id": "rZkwoKfWmNJj"
      },
      "source": [
        "At the end of the experiment, you will be able to\n",
        "\n",
        "* know autoregressive AR models\n",
        "* know moving average MA models\n",
        "* know autoregressive moving average ARMA models\n",
        "* select optimum AR and MA terms for ARMA models\n",
        "* predict future instances using ARMA model for Industrial production data"
      ]
    },
    {
      "cell_type": "markdown",
      "metadata": {
        "id": "jtdSVLWombeQ"
      },
      "source": [
        "## Information"
      ]
    },
    {
      "cell_type": "markdown",
      "metadata": {
        "id": "mmW63ntz6T5M"
      },
      "source": [
        "The classical regression model was developed for the static case, namely, we only allow the dependent variable to be influenced by current values of the independent variables. In the time series case, it is desirable to allow the dependent variable to be influenced by the past values of the independent variables and possibly by its own past values. If the present can be plausibly modeled in terms of only the past values of the independent inputs, then forecasting will be possible."
      ]
    },
    {
      "cell_type": "markdown",
      "metadata": {
        "id": "bhzQqDIT6cwT"
      },
      "source": [
        "### Autoregressive Models"
      ]
    },
    {
      "cell_type": "markdown",
      "metadata": {
        "id": "7ZzwoqWn8AKU"
      },
      "source": [
        "Autoregressive models are based on the idea that the current value of the series, $x_t$, can be explained as a function of $p$ past values, $x_{t−1}, x_{t−2}, . . ., x_{t−p},$ where $p$ determines the number of steps into the past needed to forecast the current value.\n",
        "\n",
        "An **autoregressive model** of order p, abbreviated **AR(p)**, is of the form\n",
        "\n",
        "$$x_t = \\phi_1 x_{t−1} + \\phi_2 x_{t−2} + · · · + \\phi_p x_{t−p} + w_t,$$\n",
        "\n",
        "where $x_t$ is stationary, $w_t ∼ wn(0, σ^2_w),$ and $\\phi_1, \\phi_2, . . ., \\phi_p$ are constants $(\\phi_p \\ne 0)$. The mean of $x_t$ in the above equation is zero. \n",
        "\n",
        "If the mean, $\\mu$, of $x_t$ is not zero, replace $x_t$ by $x_t − \\mu$,\n",
        "\n",
        "$$x_t − \\mu = \\phi_1(x_{t−1} − \\mu) + \\phi_2(x_{t−2} − \\mu) + · · · + \\phi_p(x_{t−p} − \\mu) + w_t,$$\n",
        "\n",
        "or\n",
        "\n",
        "$$x_t = α + \\phi_1 x_{t−1} + \\phi_2 x_{t−2} + · · · + \\phi_p x_{t−p} + w_t,$$\n",
        "\n",
        "where $α = \\mu(1 − \\phi_1 − · · · − \\phi_p)$. The above equation is termed as auto (or self) regression.\n",
        "\n",
        "\n",
        "Autoregressive (AR) models for different order:\n",
        "\n",
        "* AR(1) model:\n",
        "$$ x_t = \\phi_1 x_{t-1} + w_t $$\n",
        "\n",
        "* AR(2) model:\n",
        "$$ x_t = \\phi_1 x_{t-1} + \\phi_2 y_{t-2} + w_t $$\n",
        "\n",
        "* AR(p) model:\n",
        "$$ x_t = \\phi_1 x_{t-1} + \\phi_2 x_{t-2} + \\cdots + \\phi_p x_{t-p} + w_t $$\n",
        "\n",
        "\n",
        "To know more about AR models, click [here](https://365datascience.com/tutorials/time-series-analysis-tutorials/autoregressive-model/)."
      ]
    },
    {
      "cell_type": "markdown",
      "metadata": {
        "id": "BNLA8HiKxQhc"
      },
      "source": [
        "### Setup Steps:"
      ]
    },
    {
      "cell_type": "code",
      "metadata": {
        "id": "2YzfoPvJDiTX"
      },
      "source": [
        "#@title Please enter your registration id to start: { run: \"auto\", display-mode: \"form\" }\n",
        "Id = \"\" #@param {type:\"string\"}"
      ],
      "execution_count": null,
      "outputs": []
    },
    {
      "cell_type": "code",
      "metadata": {
        "id": "AjoZJWGErxGf"
      },
      "source": [
        "#@title Please enter your password (your registered phone number) to continue: { run: \"auto\", display-mode: \"form\" }\n",
        "password = \"\" #@param {type:\"string\"}"
      ],
      "execution_count": null,
      "outputs": []
    },
    {
      "cell_type": "code",
      "metadata": {
        "id": "WBPPuGmBlDIN",
        "cellView": "form"
      },
      "source": [
        "#@title Run this cell to complete the setup for this Notebook\n",
        "from IPython import get_ipython\n",
        "\n",
        "ipython = get_ipython()\n",
        "  \n",
        "notebook= \"M6_AST_05_Autoregressive_Moving_Average_models_C\" #name of the notebook\n",
        "\n",
        "def setup():\n",
        "#  ipython.magic(\"sx pip3 install torch\")  \n",
        "    ipython.magic(\"sx pip -q install astsadata\")\n",
        "    ipython.magic(\"sx wget https://cdn.iisc.talentsprint.com/CDS/Datasets/google_stock.csv\")\n",
        "    ipython.magic(\"sx wget https://cdn.iisc.talentsprint.com/CDS/Datasets/electric_production.csv\")\n",
        "    from IPython.display import HTML, display\n",
        "    display(HTML('<script src=\"https://dashboard.talentsprint.com/aiml/record_ip.html?traineeId={0}&recordId={1}\"></script>'.format(getId(),submission_id)))\n",
        "    print(\"Setup completed successfully\")\n",
        "    return\n",
        "\n",
        "def submit_notebook():\n",
        "    ipython.magic(\"notebook -e \"+ notebook + \".ipynb\")\n",
        "    \n",
        "    import requests, json, base64, datetime\n",
        "\n",
        "    url = \"https://dashboard.talentsprint.com/xp/app/save_notebook_attempts\"\n",
        "    if not submission_id:\n",
        "      data = {\"id\" : getId(), \"notebook\" : notebook, \"mobile\" : getPassword()}\n",
        "      r = requests.post(url, data = data)\n",
        "      r = json.loads(r.text)\n",
        "\n",
        "      if r[\"status\"] == \"Success\":\n",
        "          return r[\"record_id\"]\n",
        "      elif \"err\" in r:        \n",
        "        print(r[\"err\"])\n",
        "        return None        \n",
        "      else:\n",
        "        print (\"Something is wrong, the notebook will not be submitted for grading\")\n",
        "        return None\n",
        "    \n",
        "    elif getAnswer() and getComplexity() and getAdditional() and getConcepts() and getComments() and getMentorSupport():\n",
        "      f = open(notebook + \".ipynb\", \"rb\")\n",
        "      file_hash = base64.b64encode(f.read())\n",
        "\n",
        "      data = {\"complexity\" : Complexity, \"additional\" :Additional, \n",
        "              \"concepts\" : Concepts, \"record_id\" : submission_id, \n",
        "              \"answer\" : Answer, \"id\" : Id, \"file_hash\" : file_hash,\n",
        "              \"notebook\" : notebook,\n",
        "              \"feedback_experiments_input\" : Comments,\n",
        "              \"feedback_mentor_support\": Mentor_support}\n",
        "      r = requests.post(url, data = data)\n",
        "      r = json.loads(r.text)\n",
        "      if \"err\" in r:        \n",
        "        print(r[\"err\"])\n",
        "        return None   \n",
        "      else:\n",
        "        print(\"Your submission is successful.\")\n",
        "        print(\"Ref Id:\", submission_id)\n",
        "        print(\"Date of submission: \", r[\"date\"])\n",
        "        print(\"Time of submission: \", r[\"time\"])\n",
        "        print(\"View your submissions: https://cds.iisc.talentsprint.com/notebook_submissions\")\n",
        "        #print(\"For any queries/discrepancies, please connect with mentors through the chat icon in LMS dashboard.\")\n",
        "        return submission_id\n",
        "    else: submission_id\n",
        "    \n",
        "\n",
        "def getAdditional():\n",
        "  try:\n",
        "    if not Additional: \n",
        "      raise NameError\n",
        "    else:\n",
        "      return Additional  \n",
        "  except NameError:\n",
        "    print (\"Please answer Additional Question\")\n",
        "    return None\n",
        "\n",
        "def getComplexity():\n",
        "  try:\n",
        "    if not Complexity:\n",
        "      raise NameError\n",
        "    else:\n",
        "      return Complexity\n",
        "  except NameError:\n",
        "    print (\"Please answer Complexity Question\")\n",
        "    return None\n",
        "  \n",
        "def getConcepts():\n",
        "  try:\n",
        "    if not Concepts:\n",
        "      raise NameError\n",
        "    else:\n",
        "      return Concepts\n",
        "  except NameError:\n",
        "    print (\"Please answer Concepts Question\")\n",
        "    return None\n",
        "  \n",
        "  \n",
        "# def getWalkthrough():\n",
        "#   try:\n",
        "#     if not Walkthrough:\n",
        "#       raise NameError\n",
        "#     else:\n",
        "#       return Walkthrough\n",
        "#   except NameError:\n",
        "#     print (\"Please answer Walkthrough Question\")\n",
        "#     return None\n",
        "  \n",
        "def getComments():\n",
        "  try:\n",
        "    if not Comments:\n",
        "      raise NameError\n",
        "    else:\n",
        "      return Comments\n",
        "  except NameError:\n",
        "    print (\"Please answer Comments Question\")\n",
        "    return None\n",
        "  \n",
        "\n",
        "def getMentorSupport():\n",
        "  try:\n",
        "    if not Mentor_support:\n",
        "      raise NameError\n",
        "    else:\n",
        "      return Mentor_support\n",
        "  except NameError:\n",
        "    print (\"Please answer Mentor support Question\")\n",
        "    return None\n",
        "\n",
        "def getAnswer():\n",
        "  try:\n",
        "    if not Answer:\n",
        "      raise NameError \n",
        "    else: \n",
        "      return Answer\n",
        "  except NameError:\n",
        "    print (\"Please answer Question\")\n",
        "    return None\n",
        "  \n",
        "\n",
        "def getId():\n",
        "  try: \n",
        "    return Id if Id else None\n",
        "  except NameError:\n",
        "    return None\n",
        "\n",
        "def getPassword():\n",
        "  try:\n",
        "    return password if password else None\n",
        "  except NameError:\n",
        "    return None\n",
        "\n",
        "submission_id = None\n",
        "### Setup \n",
        "if getPassword() and getId():\n",
        "  submission_id = submit_notebook()\n",
        "  if submission_id:\n",
        "    setup() \n",
        "else:\n",
        "  print (\"Please complete Id and Password cells before running setup\")\n",
        "\n"
      ],
      "execution_count": null,
      "outputs": []
    },
    {
      "cell_type": "markdown",
      "metadata": {
        "id": "17HC-XlULz2g"
      },
      "source": [
        "### Import required packages"
      ]
    },
    {
      "cell_type": "code",
      "metadata": {
        "id": "I6393azkL3wc"
      },
      "source": [
        "import numpy as np\n",
        "import pandas as pd\n",
        "import matplotlib.pyplot as plt\n",
        "from pandas.tseries.offsets import DateOffset\n",
        "import warnings\n",
        "warnings.filterwarnings(\"ignore\")\n",
        "import statsmodels.api as sm\n",
        "from astsadata import rec\n",
        "from statsmodels.tsa.arima_process import ArmaProcess\n",
        "from statsmodels.graphics.tsaplots import plot_acf, plot_pacf\n",
        "from statsmodels.tsa.seasonal import seasonal_decompose"
      ],
      "execution_count": null,
      "outputs": []
    },
    {
      "cell_type": "markdown",
      "metadata": {
        "id": "iTTk5LkW81K-"
      },
      "source": [
        "**Example 1:** We will analyze the dataset to identify the order of an autoregressive model i.e, `p`value and create an autoregressive model for prediction."
      ]
    },
    {
      "cell_type": "markdown",
      "metadata": {
        "id": "K8PARQS481K-"
      },
      "source": [
        "**Dataset Description:**\n",
        "\n",
        "The data set (google_stock.csv) consists of $n = 105$ values which are the closing stock price of a share of Google stock from `2-7-2005` to `7-7-2005`. "
      ]
    },
    {
      "cell_type": "code",
      "metadata": {
        "id": "zaDvTjV481LA"
      },
      "source": [
        "# Read data\n",
        "df = pd.read_csv(\"google_stock.csv\")\n",
        "df.head()"
      ],
      "execution_count": null,
      "outputs": []
    },
    {
      "cell_type": "markdown",
      "metadata": {
        "id": "OXwcmm6I81LB"
      },
      "source": [
        " A plot of the stock prices versus time is presented below:"
      ]
    },
    {
      "cell_type": "code",
      "metadata": {
        "id": "9QUr9MUJ81LB"
      },
      "source": [
        "# Visualize stock prices\n",
        "plt.plot(df['price'])\n",
        "plt.xlabel(\"Time (days)\")\n",
        "plt.ylabel(\"Stock price\")\n",
        "plt.show()"
      ],
      "execution_count": null,
      "outputs": []
    },
    {
      "cell_type": "markdown",
      "metadata": {
        "id": "RJTvrjbM81LB"
      },
      "source": [
        "**ARMA Model**\n",
        "\n",
        "Let us now apply the ARMA model (Autoregressive {p} Moving Average {q}). The model has 2 parameters\n",
        "\n",
        "**p** - the parameter associated with the Auto-Regressive part of the ARMA model. We can use the PACF (partial autocorrelation function) plot to find the optimal p value.\n",
        "\n",
        "**q** - the parameter associated with the Moving Average part of the ARMA model. We can use the ACF (autocorrelation function) plot to find the optimal q value.\n",
        "\n",
        "To know more about how to choose the AR(p) and MA(q) terms, click [here](https://people.duke.edu/~rnau/arimrule.htm).\n",
        "\n",
        "Let's plot the PACF first."
      ]
    },
    {
      "cell_type": "code",
      "metadata": {
        "id": "JRknax-N81LC"
      },
      "source": [
        "# Visualize PACF\n",
        "plot_pacf(df['price'])\n",
        "plt.xlabel(\"Lag\")\n",
        "plt.ylabel(\"PACF\")\n",
        "plt.show()"
      ],
      "execution_count": null,
      "outputs": []
    },
    {
      "cell_type": "markdown",
      "metadata": {
        "id": "LR39KwpB81LC"
      },
      "source": [
        "From the above partial autocorrelation plot, we can select the p-value as 1."
      ]
    },
    {
      "cell_type": "code",
      "metadata": {
        "id": "hj1GLOcJ81LC"
      },
      "source": [
        "# Create AR(1) model\n",
        "ar = sm.tsa.ARMA(df['price'], order=(1, 0))\n",
        "r1 = ar.fit()\n",
        "print(r1.summary())"
      ],
      "execution_count": null,
      "outputs": []
    },
    {
      "cell_type": "markdown",
      "metadata": {
        "id": "piBk3hiVIMsX"
      },
      "source": [
        "We can access the AIC score of the model as follows:"
      ]
    },
    {
      "cell_type": "code",
      "metadata": {
        "id": "9OazKaYeIPTv"
      },
      "source": [
        "# AIC score\n",
        "r1.aic"
      ],
      "execution_count": null,
      "outputs": []
    },
    {
      "cell_type": "markdown",
      "metadata": {
        "id": "JhBz_sUNILlI"
      },
      "source": [
        "The **Akaike information criterion (AIC)** is an estimator of prediction error and thereby the relative quality of statistical models for a given set of data. Given a collection of models for the data, AIC estimates the quality of each model, relative to each of the other models. Thus, AIC provides a means for model selection.\n",
        "\n",
        "In simple words, AIC is a single number score that can be used to determine which of multiple models is most likely to be the best model for a given dataset. It estimates models relatively, meaning that AIC scores are only useful in comparison with other AIC scores for the same dataset. A **lower AIC score is better**."
      ]
    },
    {
      "cell_type": "code",
      "metadata": {
        "id": "lpD4YxvE81LD"
      },
      "source": [
        "# Visualize prediction\n",
        "\n",
        "plt.plot(df['price'], 'b', label=\"original\")\n",
        "plt.plot(r1.predict(), 'r', label=\"AR(1)\")\n",
        "plt.legend()\n",
        "plt.xlabel(\"Time (days)\")\n",
        "plt.ylabel(\"Stock price\")\n",
        "plt.show()"
      ],
      "execution_count": null,
      "outputs": []
    },
    {
      "cell_type": "markdown",
      "metadata": {
        "id": "pwMIBfSklonX"
      },
      "source": [
        "### Moving Average Models"
      ]
    },
    {
      "cell_type": "markdown",
      "metadata": {
        "id": "9wO5K0lqkF1h"
      },
      "source": [
        "As an alternative to the autoregressive representation in which the $x_t$ on the left-hand side of the equation are assumed to be combined linearly, the moving average model of order $q$, abbreviated as MA(q), assumes the white noise $w_t$ on the right-hand side of the defining equation are combined linearly to form the observed data.\n",
        "\n",
        "The **moving average model** of order q, or **MA(q)** model, is defined\n",
        "to be \n",
        "\n",
        "$$x_t = w_t + θ_1w_{t−1} + θ_2w_{t−2} + · · · + θ_qw_{t−q},$$\n",
        "\n",
        "where $w_t ∼ wn(0, σ^2_w)$, and $θ_1, θ_2, . . ., θ_q\\ (θ_q \\ne 0)$ are parameters.\n",
        "\n",
        "Moving Average (MA) models for different order:\n",
        "\n",
        "* MA(1) model:\n",
        "$$ x_t = \\theta_1 w_{t-1} + w_t $$\n",
        "\n",
        "* MA(2) model:\n",
        "$$ x_t = \\theta_1 w_{t-1} + \\theta_2 w_{t-2} + w_t $$\n",
        "\n",
        "* MA(q) model:\n",
        "$$ x_t = \\theta_1 w_{t-1} + \\theta_2 w_{t-2} + \\cdots + \\theta_q w_{t-q} + w_t $$"
      ]
    },
    {
      "cell_type": "markdown",
      "metadata": {
        "id": "sTlTP1jG81LE"
      },
      "source": [
        "**Example 2:** Here we first simulate MA process data with $\\theta = 0.5$ and visualize the prediction using the MA model."
      ]
    },
    {
      "cell_type": "code",
      "metadata": {
        "id": "Nf9hluR281LE"
      },
      "source": [
        "# Simulating an MA Process\n",
        "\n",
        "# AR terms order\n",
        "ar = np.array([1])\n",
        "# MA terms order\n",
        "ma = np.array([1, 0.5])\n",
        "AR_object = ArmaProcess(ar, ma)\n",
        "# Generate 500 samples\n",
        "simulated_data = AR_object.generate_sample(nsample=500)\n",
        "\n",
        "# Visualize simulated data\n",
        "plt.plot(simulated_data, label=\"Simulated data\")\n",
        "plt.xlabel(\"Time\")\n",
        "plt.legend()\n",
        "plt.show()"
      ],
      "execution_count": null,
      "outputs": []
    },
    {
      "cell_type": "code",
      "metadata": {
        "id": "QVWxr-Cs81LF"
      },
      "source": [
        "# Visualize ACF of simulated data\n",
        "plot_acf(simulated_data)\n",
        "plt.xlabel(\"Lag\")\n",
        "plt.ylabel(\"ACF\")\n",
        "plt.show()"
      ],
      "execution_count": null,
      "outputs": []
    },
    {
      "cell_type": "markdown",
      "metadata": {
        "id": "sq87ZGS481LF"
      },
      "source": [
        "From the above autocorrelation plot, we can select the q-value as 1."
      ]
    },
    {
      "cell_type": "code",
      "metadata": {
        "id": "T9BoV5VE81LF"
      },
      "source": [
        "# Forecasting an MA Model\n",
        "mod = sm.tsa.ARMA(simulated_data, order=(0, 1))\n",
        "res = mod.fit()\n",
        "res.summary()"
      ],
      "execution_count": null,
      "outputs": []
    },
    {
      "cell_type": "code",
      "metadata": {
        "id": "VaeYfEXN81LG"
      },
      "source": [
        "# Visualize prediction\n",
        "plt.figure(figsize=(16,5))\n",
        "plt.plot(simulated_data, label='data')\n",
        "plt.plot(res.predict(), label='prediction')\n",
        "plt.legend()\n",
        "plt.xlabel(\"Time\")\n",
        "plt.show()"
      ],
      "execution_count": null,
      "outputs": []
    },
    {
      "cell_type": "markdown",
      "metadata": {
        "id": "FzZmJndC2qID"
      },
      "source": [
        "### Autoregressive Moving Average Models"
      ]
    },
    {
      "cell_type": "markdown",
      "metadata": {
        "id": "DZmivApSsiIj"
      },
      "source": [
        "Now let's proceed with the general development of autoregressive, moving average, and mixed autoregressive moving average (ARMA), models for stationary time series.\n",
        "\n",
        "A time series $\\{x_t;\\ t = 0, ±1, ±2, . . .\\}$ is $ARMA(p, q)$ if it is stationary and \n",
        "\n",
        "$$x_t = \\phi_1 x_{t−1} + · · · + \\phi_p x_{t−p} + w_t + θ_1w_{t−1} + · · · + θ_qw_{t−q},$$\n",
        "\n",
        "with $\\phi_p \\ne 0,\\ θ_q \\ne 0$, and $σ^2_w > 0$. The parameters $p$ and $q$ are called the autoregressive and the moving average orders, respectively. If $x_t$ has a nonzero mean $\\mu$, we set $α = \\mu(1 − \\phi_1 − · · · − \\phi_p)$ and write the model as\n",
        "\n",
        "$$x_t = α + \\phi_1 x_{t−1} + · · · + \\phi_p x_{t−p} + w_t + θ_1w_{t−1} + · · · + θ_qw_{t−q},$$\n",
        "\n",
        "where $w_t ∼ wn(0, σ^2_w).$\n",
        "\n",
        "As previously noted, when $q = 0$, the model is called an autoregressive model\n",
        "of order $p,\\ AR(p),$ and when $p = 0$, the model is called a moving average model of order $q,\\ MA(q)$."
      ]
    },
    {
      "cell_type": "markdown",
      "metadata": {
        "id": "1qFPsm8681LH"
      },
      "source": [
        "**Example 3:** We will analyze the `google_stock` dataset to identify the order of a moving average model i.e, `q`value and create an autoregressive moving average model for prediction."
      ]
    },
    {
      "cell_type": "markdown",
      "metadata": {
        "id": "3ciUf2Md81LH"
      },
      "source": [
        "From the first example, we know the p-value = 1.\n",
        "\n",
        "We can use the ACF (autocorrelation function) plot to find the optimal q value.\n",
        "\n",
        "Let's plot the autocorrelation function."
      ]
    },
    {
      "cell_type": "code",
      "metadata": {
        "id": "CbNTUsXK81LH"
      },
      "source": [
        "# Visualize ACF\n",
        "plot_acf(df['price'])\n",
        "plt.xlabel(\"Lag\")\n",
        "plt.ylabel(\"ACF\")\n",
        "plt.show()"
      ],
      "execution_count": null,
      "outputs": []
    },
    {
      "cell_type": "markdown",
      "metadata": {
        "id": "UPUQOL6M81LH"
      },
      "source": [
        "From the above autocorrelation plot, we can select the q-value as 10."
      ]
    },
    {
      "cell_type": "code",
      "metadata": {
        "id": "XfmV5V6u81LH"
      },
      "source": [
        "# Create ARMA(p=1, q=10)\n",
        "arma = sm.tsa.ARMA(df['price'].values, order=(1,10))\n",
        "r2 = arma.fit()\n",
        "print(r2.summary())"
      ],
      "execution_count": null,
      "outputs": []
    },
    {
      "cell_type": "code",
      "metadata": {
        "id": "dk17xVXy81LI"
      },
      "source": [
        "# Visualize prediction\n",
        "\n",
        "plt.plot(df['price'], 'b', label=\"original\")\n",
        "plt.plot(r2.predict(), 'r', label=\"ARMA(1,10)\")\n",
        "plt.legend()\n",
        "plt.xlabel(\"Time (days)\")\n",
        "plt.ylabel(\"Stock price\")\n",
        "plt.show()"
      ],
      "execution_count": null,
      "outputs": []
    },
    {
      "cell_type": "markdown",
      "metadata": {
        "id": "wR3supbz81LI"
      },
      "source": [
        "**Example 4: Forecasting the Recruitment Series**\n",
        "\n",
        "Recruitment series contains the number of new fish furnished by Dr. Roy Mendelssohn of the Pacific Environmental Fisheries Group. The series is for a period of 453 months ranging over the years 1950–1987.\n",
        "\n",
        "Using the parameter estimates as the actual parameter values, let's forecast the Recruitment series over a 24-month horizon, m = 1, 2, . . ., 24. The actual forecasts are calculated as\n",
        "\n",
        "$$x^n_{n+m} = 6.74 + 1.35x^n_{n+m−1} − .46x^n_{n+m−2}$$\n",
        "\n",
        "for $n = 453$ and $m = 1, 2, . . ., 12.$"
      ]
    },
    {
      "cell_type": "code",
      "metadata": {
        "id": "CGKeISIz81LI"
      },
      "source": [
        "# Create an AR model\n",
        "regr = sm.tsa.AR(rec).fit(maxlag=2)\n",
        "# Predict next 23 instances\n",
        "fore = regr.predict(start=len(rec), end=len(rec) + 23)\n",
        "\n",
        "# Visualize forecasts\n",
        "rec[\"1980\":].plot(xlabel=\"Time\", ylabel=\"Recruitment\", legend=False)\n",
        "fore.plot(marker=\"o\")\n",
        "plt.show()"
      ],
      "execution_count": null,
      "outputs": []
    },
    {
      "cell_type": "markdown",
      "metadata": {
        "id": "kalKmn__81LJ"
      },
      "source": [
        "**Example 5: Backcasting an ARMA(1, 1)**\n",
        "\n",
        "Consider an ARMA(1, 1) process, $x_t = \\phi x_{t−1} + θw_{t−1} + w_t$\n",
        "; we will call this the\n",
        "forward model.  Assuming the models are Gaussian, we also have that minimum mean square error prediction backward in time is the same as forward in time for ARMA models. Thus, the process can equivalently be generated by the backward model,\n",
        "\n",
        "$$x_t = \\phi x_{t+1} + θv_{t+1} + v_t,$$\n",
        "\n",
        "where $v_t$ is a Gaussian white noise process with variance $σ^2_w$."
      ]
    },
    {
      "cell_type": "code",
      "metadata": {
        "id": "mhbSCDgI81LJ"
      },
      "source": [
        "np.random.seed(90210)\n",
        "\n",
        "# Generate ARMA process samples with ϕ = -0.9 and θ = 0.5\n",
        "x = sm.tsa.arma_generate_sample(ar=[1, -.9], ma=[1, .5], nsample=100)\n",
        "# xr is the reversed data\n",
        "xr = np.flip(x) \n",
        "\n",
        "# predict the reversed data upto 9 instances\n",
        "pxr = sm.tsa.ARMA(xr, order=(1, 1)).fit().predict(len(x), len(x) + 9) \n",
        "\n",
        "# reorder the predictors (for plotting)\n",
        "pxrp = np.flip(pxr)\n",
        "\n",
        "# attach the backcasts to the data\n",
        "nx = pd.Series([*pxrp, *x], index=np.arange(-9, 101)) \n",
        "\n",
        "# Visualize backcasts\n",
        "nx.plot(xlabel=\"Time\", ylabel=r\"$X_{t}$\", title=\"Backcasting\")\n",
        "nx.iloc[:10].plot(marker=\"o\", color=\"red\", markersize=5)\n",
        "plt.show()"
      ],
      "execution_count": null,
      "outputs": []
    },
    {
      "cell_type": "markdown",
      "metadata": {
        "id": "Tlf1kiba81LJ"
      },
      "source": [
        "**Example 6:** Here we use the ARMA model to predict the future values for the seasonal Industrial production data. "
      ]
    },
    {
      "cell_type": "markdown",
      "metadata": {
        "id": "DeY1SXdj81LK"
      },
      "source": [
        "**Dataset Description**\n",
        "\n",
        "The dataset is the Industrial production of electric and gas utilities in the United States, from the years 1985–2018. It contains monthly data starting from 1/1/1985 to 1/1/2018 having 12 entries per year.\n",
        "\n",
        "This data measures the real output of all relevant establishments located in the United States, regardless of their ownership, but not those located in U.S. territories."
      ]
    },
    {
      "cell_type": "code",
      "metadata": {
        "id": "e8kULr4l81LK"
      },
      "source": [
        "# Read data\n",
        "df1 = pd.read_csv(\"electric_production.csv\")\n",
        "df1.columns = ['Date','Production']\n",
        "df1.head()"
      ],
      "execution_count": null,
      "outputs": []
    },
    {
      "cell_type": "markdown",
      "metadata": {
        "id": "8RnX3UfK81LK"
      },
      "source": [
        "To work with time series data, the 'date' column is converted into a datetime index."
      ]
    },
    {
      "cell_type": "code",
      "metadata": {
        "id": "z_m4OjkK81LK"
      },
      "source": [
        "# Convert Date column to datetime index\n",
        "df1['Date'] = pd.to_datetime(df1['Date'])\n",
        "df2 = df1.set_index('Date')\n",
        "df2.head()"
      ],
      "execution_count": null,
      "outputs": []
    },
    {
      "cell_type": "code",
      "metadata": {
        "id": "4teIFxZc81LL"
      },
      "source": [
        "# Visualization of data\n",
        "df2.plot()\n",
        "plt.ylabel(\"Electric and Gas Utilities\")\n",
        "plt.show()"
      ],
      "execution_count": null,
      "outputs": []
    },
    {
      "cell_type": "markdown",
      "metadata": {
        "id": "A4ncRTcm81LL"
      },
      "source": [
        "As seen from the plot, this is seasonal data as there is some seasonality to it and an upward trend too.\n",
        "\n",
        "Now comparing the 12 month simple moving average along with the series to ascertain the trend. The standard deviation is also plotted to see if there is any variance or no."
      ]
    },
    {
      "cell_type": "code",
      "metadata": {
        "id": "Infb-vDz81LL"
      },
      "source": [
        "# 12 month simple moving average and standard deviation\n",
        "df2['Production'].rolling(12).mean().plot(label='12 SMA',figsize=(16,8))\n",
        "df2['Production'].rolling(12).std().plot(label='12 STD')\n",
        "df2['Production'].plot()\n",
        "plt.legend()\n",
        "plt.show()"
      ],
      "execution_count": null,
      "outputs": []
    },
    {
      "cell_type": "markdown",
      "metadata": {
        "id": "HCZjzdDz81LL"
      },
      "source": [
        "As seen from the above plot, the standard deviation is not varying much so there is not much variance.\n",
        "\n",
        "Decomposition of the time series data to its trend, seasonality and residual components. The trend, seasonal and residual errors can be seen individually here."
      ]
    },
    {
      "cell_type": "code",
      "metadata": {
        "id": "EoszpX7F81LM"
      },
      "source": [
        "# Decompose time series\n",
        "decomp = seasonal_decompose(df2['Production'])\n",
        "fig = decomp.plot()\n",
        "fig.set_size_inches(14,7)"
      ],
      "execution_count": null,
      "outputs": []
    },
    {
      "cell_type": "markdown",
      "metadata": {
        "id": "C4ZbpPUz81LM"
      },
      "source": [
        "**Plotting the ACF and PACF plot**"
      ]
    },
    {
      "cell_type": "code",
      "metadata": {
        "id": "AYv7dff181LM"
      },
      "source": [
        "# Visualize ACF and PACF for Production series\n",
        "p1 = plot_acf(df2['Production'].dropna()); plt.xlabel(\"Lag\"); plt.ylabel(\"ACF\")\n",
        "p2 = plot_pacf(df2['Production'].dropna()); plt.xlabel(\"Lag\"); plt.ylabel(\"PACF\")"
      ],
      "execution_count": null,
      "outputs": []
    },
    {
      "cell_type": "markdown",
      "metadata": {
        "id": "9qHHOiK781LM"
      },
      "source": [
        "From the above plots, we can select the orders of autoregressive and moving average models i.e, p = 6 and q = 4."
      ]
    },
    {
      "cell_type": "markdown",
      "metadata": {
        "id": "i-eDV6d081LM"
      },
      "source": [
        "**Constructing the ARMA model**"
      ]
    },
    {
      "cell_type": "code",
      "metadata": {
        "id": "EUo78Eeh81LM"
      },
      "source": [
        "# Create ARMA(p=6, q=4) model\n",
        "model = sm.tsa.ARMA(df2['Production'].dropna(),order=(6, 4))\n",
        "# Fit model\n",
        "results = model.fit()\n",
        "results.summary()"
      ],
      "execution_count": null,
      "outputs": []
    },
    {
      "cell_type": "markdown",
      "metadata": {
        "id": "1NWp6Pke81LN"
      },
      "source": [
        "**Predicting or forecasting**\n",
        "\n",
        "By predicting the values, the model's performance can be ascertained. First, we can look into how it predicts the present data and then we move onto predicting future data."
      ]
    },
    {
      "cell_type": "code",
      "metadata": {
        "id": "nxCqwwTp81LN"
      },
      "source": [
        "# Predict present data\n",
        "df2['prediction'] = results.predict()\n",
        "df2[['Production','prediction']].plot(figsize=(12,8))\n",
        "plt.ylabel(\"Electric and Gas Utilities\")\n",
        "plt.show()"
      ],
      "execution_count": null,
      "outputs": []
    },
    {
      "cell_type": "markdown",
      "metadata": {
        "id": "T2RkWY0t81LN"
      },
      "source": [
        "As seen from the above plot, the model does a good job of predicting the present data. Now to predict for the future, we can add more months to the dataset with null values and predict for it. The last index is obtained which is the last date and a month offset is added to it which starts from 1 and goes up to 24."
      ]
    },
    {
      "cell_type": "code",
      "metadata": {
        "id": "Ju2Io9OR81LN"
      },
      "source": [
        "# Last five values of dataset\n",
        "df2.tail()"
      ],
      "execution_count": null,
      "outputs": []
    },
    {
      "cell_type": "code",
      "metadata": {
        "id": "ko6OqoTo81LN"
      },
      "source": [
        "# Create extra index dates\n",
        "extra_dates = [df2.index[-1] + DateOffset(months=m) for m in range (1,24)]\n",
        "extra_dates"
      ],
      "execution_count": null,
      "outputs": []
    },
    {
      "cell_type": "markdown",
      "metadata": {
        "id": "i-ADX2EC81LN"
      },
      "source": [
        "Now another dataframe is created with these extra future date values as index and the rest of the column values as null."
      ]
    },
    {
      "cell_type": "code",
      "metadata": {
        "id": "kmwZlCKy81LO"
      },
      "source": [
        "# Create new dataframe with extra index dates\n",
        "forecast_df = pd.DataFrame(index=extra_dates,columns=df2.columns)\n",
        "forecast_df.head()"
      ],
      "execution_count": null,
      "outputs": []
    },
    {
      "cell_type": "markdown",
      "metadata": {
        "id": "tGuEfb9x81LO"
      },
      "source": [
        "Now the original dataframe and this forecast dataframe are concatenated into a single one for forecasting."
      ]
    },
    {
      "cell_type": "code",
      "metadata": {
        "id": "xCskjCy181LR"
      },
      "source": [
        "# Concat dataframes\n",
        "final_df = pd.concat([df2,forecast_df])\n",
        "final_df.tail()"
      ],
      "execution_count": null,
      "outputs": []
    },
    {
      "cell_type": "markdown",
      "metadata": {
        "id": "9MgqrQpp81LR"
      },
      "source": [
        "Now we can predict the values for the end data points by mentioning the start and end arguments while calling the 'predict' function."
      ]
    },
    {
      "cell_type": "code",
      "metadata": {
        "id": "iWBvBaR881LS"
      },
      "source": [
        "# Visualize prediction for extra index dates\n",
        "final_df['prediction'] = results.predict(start=396, end=430)\n",
        "final_df[['Production','prediction']].plot(figsize=(12,8))\n",
        "plt.xlabel(\"Date\")\n",
        "plt.ylabel(\"Electric and Gas Utilities\")\n",
        "plt.show()"
      ],
      "execution_count": null,
      "outputs": []
    },
    {
      "cell_type": "markdown",
      "metadata": {
        "id": "TTMKqAgU81LS"
      },
      "source": [
        "The prediction line can be seen clearly for the future values."
      ]
    },
    {
      "cell_type": "markdown",
      "metadata": {
        "id": "VHfHdGCP_n6Y"
      },
      "source": [
        "### Please answer the questions below to complete the experiment:\n",
        "\n",
        "\n"
      ]
    },
    {
      "cell_type": "code",
      "metadata": {
        "id": "VgSwVENIPcM6"
      },
      "source": [
        "#@title Select the False statement: { run: \"auto\", form-width: \"500px\", display-mode: \"form\" }\n",
        "Answer = \"\" #@param [\"\", \"Partial autocorrelation function plot is used to find the optimal AR term value\", \"In ARMA model, when p=0, the model is called an autoregressive model of order q, AR(q)\", \"In ARMA model, when q=0, the model is called an autoregressive model of order p, AR(p)\"]"
      ],
      "execution_count": null,
      "outputs": []
    },
    {
      "cell_type": "code",
      "metadata": {
        "id": "NMzKSbLIgFzQ"
      },
      "source": [
        "#@title How was the experiment? { run: \"auto\", form-width: \"500px\", display-mode: \"form\" }\n",
        "Complexity = \"\" #@param [\"\",\"Too Simple, I am wasting time\", \"Good, But Not Challenging for me\", \"Good and Challenging for me\", \"Was Tough, but I did it\", \"Too Difficult for me\"]\n"
      ],
      "execution_count": null,
      "outputs": []
    },
    {
      "cell_type": "code",
      "metadata": {
        "id": "DjcH1VWSFI2l"
      },
      "source": [
        "#@title If it was too easy, what more would you have liked to be added? If it was very difficult, what would you have liked to have been removed? { run: \"auto\", display-mode: \"form\" }\n",
        "Additional = \"\" #@param {type:\"string\"}\n"
      ],
      "execution_count": null,
      "outputs": []
    },
    {
      "cell_type": "code",
      "metadata": {
        "id": "4VBk_4VTAxCM"
      },
      "source": [
        "#@title Can you identify the concepts from the lecture which this experiment covered? { run: \"auto\", vertical-output: true, display-mode: \"form\" }\n",
        "Concepts = \"\" #@param [\"\",\"Yes\", \"No\"]\n"
      ],
      "execution_count": null,
      "outputs": []
    },
    {
      "cell_type": "code",
      "metadata": {
        "id": "XH91cL1JWH7m"
      },
      "source": [
        "#@title  Text and image description/explanation and code comments within the experiment: { run: \"auto\", vertical-output: true, display-mode: \"form\" }\n",
        "Comments = \"\" #@param [\"\",\"Very Useful\", \"Somewhat Useful\", \"Not Useful\", \"Didn't use\"]\n"
      ],
      "execution_count": null,
      "outputs": []
    },
    {
      "cell_type": "code",
      "metadata": {
        "id": "z8xLqj7VWIKW"
      },
      "source": [
        "#@title Mentor Support: { run: \"auto\", vertical-output: true, display-mode: \"form\" }\n",
        "Mentor_support = \"\" #@param [\"\",\"Very Useful\", \"Somewhat Useful\", \"Not Useful\", \"Didn't use\"]\n"
      ],
      "execution_count": null,
      "outputs": []
    },
    {
      "cell_type": "code",
      "metadata": {
        "id": "FzAZHt1zw-Y-",
        "cellView": "form"
      },
      "source": [
        "#@title Run this cell to submit your notebook for grading { vertical-output: true }\n",
        "try:\n",
        "  if submission_id:\n",
        "      return_id = submit_notebook()\n",
        "      if return_id : submission_id = return_id\n",
        "  else:\n",
        "      print(\"Please complete the setup first.\")\n",
        "except NameError:\n",
        "  print (\"Please complete the setup first.\")"
      ],
      "execution_count": null,
      "outputs": []
    },
    {
      "cell_type": "code",
      "source": [
        ""
      ],
      "metadata": {
        "id": "D8zjP39mGsPc"
      },
      "execution_count": null,
      "outputs": []
    }
  ]
}